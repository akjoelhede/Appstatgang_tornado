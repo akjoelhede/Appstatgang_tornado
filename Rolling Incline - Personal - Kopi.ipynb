{
 "cells": [
  {
   "cell_type": "code",
   "execution_count": 1,
   "metadata": {},
   "outputs": [],
   "source": [
    "import numpy as np                                     # Matlab like syntax for linear algebra and functions\n",
    "import matplotlib.pyplot as plt                        # Plots and figures like you know them from Matlab\n",
    "import seaborn as sns                                  # Make the plots nicer to look at\n",
    "from iminuit import Minuit                             # The actual fitting tool, better than scipy's\n",
    "import sys                                             # Modules to see files and folders in directories\n",
    "from scipy import stats\n",
    "import scipy.signal as sp\n",
    "import os # Method 1 of looping over files\n",
    "from pathlib import Path # Method 2\n",
    "import math\n",
    "import sympy"
   ]
  },
  {
   "cell_type": "code",
   "execution_count": 2,
   "metadata": {},
   "outputs": [],
   "source": [
    "sys.path.append('External_Functions')\n",
    "from ExternalFunctions import Chi2Regression, BinnedLH, UnbinnedLH\n",
    "from ExternalFunctions import nice_string_output, add_text_to_ax    # Useful functions to print fit results on figure"
   ]
  },
  {
   "cell_type": "code",
   "execution_count": 3,
   "metadata": {},
   "outputs": [
    {
     "ename": "TypeError",
     "evalue": "can't convert expression to float",
     "output_type": "error",
     "traceback": [
      "\u001b[1;31m---------------------------------------------------------------------------\u001b[0m",
      "\u001b[1;31mTypeError\u001b[0m                                 Traceback (most recent call last)",
      "\u001b[1;32m~\\AppData\\Local\\Temp\\ipykernel_19260\\3695569353.py\u001b[0m in \u001b[0;36m<module>\u001b[1;34m\u001b[0m\n\u001b[0;32m     14\u001b[0m \u001b[0mac\u001b[0m\u001b[1;33m,\u001b[0m\u001b[0mangle\u001b[0m\u001b[1;33m,\u001b[0m\u001b[0mangle_adjust\u001b[0m\u001b[1;33m,\u001b[0m\u001b[0mdBall\u001b[0m\u001b[1;33m,\u001b[0m\u001b[0mdRail\u001b[0m \u001b[1;33m=\u001b[0m \u001b[0msympy\u001b[0m\u001b[1;33m.\u001b[0m\u001b[0msymbols\u001b[0m\u001b[1;33m(\u001b[0m\u001b[1;34m'ac angle angle_adjust dBall dRail'\u001b[0m\u001b[1;33m)\u001b[0m\u001b[1;33m\u001b[0m\u001b[1;33m\u001b[0m\u001b[0m\n\u001b[0;32m     15\u001b[0m \u001b[1;33m\u001b[0m\u001b[0m\n\u001b[1;32m---> 16\u001b[1;33m \u001b[0mg_diff_ac\u001b[0m \u001b[1;33m=\u001b[0m \u001b[0mgravity\u001b[0m\u001b[1;33m(\u001b[0m\u001b[0mac\u001b[0m\u001b[1;33m,\u001b[0m \u001b[0mangle\u001b[0m\u001b[1;33m,\u001b[0m \u001b[0mangle_adjust\u001b[0m\u001b[1;33m,\u001b[0m \u001b[0mdBall\u001b[0m\u001b[1;33m,\u001b[0m \u001b[0mdRail\u001b[0m\u001b[1;33m)\u001b[0m\u001b[1;33m.\u001b[0m\u001b[0mdiff\u001b[0m\u001b[1;33m(\u001b[0m\u001b[0mac\u001b[0m\u001b[1;33m)\u001b[0m\u001b[1;33m\u001b[0m\u001b[1;33m\u001b[0m\u001b[0m\n\u001b[0m\u001b[0;32m     17\u001b[0m \u001b[0mg_diff_angle\u001b[0m \u001b[1;33m=\u001b[0m \u001b[0mgravity\u001b[0m\u001b[1;33m(\u001b[0m\u001b[0mac\u001b[0m\u001b[1;33m,\u001b[0m \u001b[0mangle\u001b[0m\u001b[1;33m,\u001b[0m \u001b[0mangle_adjust\u001b[0m\u001b[1;33m,\u001b[0m \u001b[0mdBall\u001b[0m\u001b[1;33m,\u001b[0m \u001b[0mdRail\u001b[0m\u001b[1;33m)\u001b[0m\u001b[1;33m.\u001b[0m\u001b[0mdiff\u001b[0m\u001b[1;33m(\u001b[0m\u001b[0mangle\u001b[0m\u001b[1;33m)\u001b[0m\u001b[1;33m\u001b[0m\u001b[1;33m\u001b[0m\u001b[0m\n\u001b[0;32m     18\u001b[0m \u001b[0mg_diff_adjust\u001b[0m \u001b[1;33m=\u001b[0m \u001b[0mgravity\u001b[0m\u001b[1;33m(\u001b[0m\u001b[0mac\u001b[0m\u001b[1;33m,\u001b[0m \u001b[0mangle\u001b[0m\u001b[1;33m,\u001b[0m \u001b[0mangle_adjust\u001b[0m\u001b[1;33m,\u001b[0m \u001b[0mdBall\u001b[0m\u001b[1;33m,\u001b[0m \u001b[0mdRail\u001b[0m\u001b[1;33m)\u001b[0m\u001b[1;33m.\u001b[0m\u001b[0mdiff\u001b[0m\u001b[1;33m(\u001b[0m\u001b[0mangle_adjust\u001b[0m\u001b[1;33m)\u001b[0m\u001b[1;33m\u001b[0m\u001b[1;33m\u001b[0m\u001b[0m\n",
      "\u001b[1;32m~\\AppData\\Local\\Temp\\ipykernel_19260\\3695569353.py\u001b[0m in \u001b[0;36mgravity\u001b[1;34m(ac, angle, angle_adjust, dBall, dRail)\u001b[0m\n\u001b[0;32m      9\u001b[0m \u001b[1;33m\u001b[0m\u001b[0m\n\u001b[0;32m     10\u001b[0m \u001b[1;32mdef\u001b[0m \u001b[0mgravity\u001b[0m\u001b[1;33m(\u001b[0m\u001b[0mac\u001b[0m\u001b[1;33m,\u001b[0m \u001b[0mangle\u001b[0m\u001b[1;33m,\u001b[0m \u001b[0mangle_adjust\u001b[0m\u001b[1;33m,\u001b[0m \u001b[0mdBall\u001b[0m\u001b[1;33m,\u001b[0m \u001b[0mdRail\u001b[0m\u001b[1;33m)\u001b[0m\u001b[1;33m:\u001b[0m \u001b[1;31m# Function for g\u001b[0m\u001b[1;33m\u001b[0m\u001b[1;33m\u001b[0m\u001b[0m\n\u001b[1;32m---> 11\u001b[1;33m     \u001b[0mg\u001b[0m \u001b[1;33m=\u001b[0m \u001b[1;33m(\u001b[0m\u001b[0mac\u001b[0m\u001b[1;33m/\u001b[0m\u001b[0mmath\u001b[0m\u001b[1;33m.\u001b[0m\u001b[0msin\u001b[0m\u001b[1;33m(\u001b[0m\u001b[0mmath\u001b[0m\u001b[1;33m.\u001b[0m\u001b[0mradians\u001b[0m\u001b[1;33m(\u001b[0m\u001b[0mangle\u001b[0m \u001b[1;33m+\u001b[0m \u001b[0mangle_adjust\u001b[0m\u001b[1;33m)\u001b[0m \u001b[1;33m)\u001b[0m\u001b[1;33m*\u001b[0m\u001b[1;33m(\u001b[0m \u001b[1;36m1.0\u001b[0m \u001b[1;33m+\u001b[0m \u001b[1;33m(\u001b[0m\u001b[1;36m0.4\u001b[0m\u001b[1;33m)\u001b[0m\u001b[1;33m*\u001b[0m\u001b[1;33m(\u001b[0m \u001b[1;33m(\u001b[0m\u001b[1;33m(\u001b[0m\u001b[0mdBall\u001b[0m\u001b[1;33m/\u001b[0m\u001b[1;36m100\u001b[0m\u001b[1;33m)\u001b[0m\u001b[1;33m**\u001b[0m\u001b[1;36m2.0\u001b[0m\u001b[1;33m)\u001b[0m \u001b[1;33m/\u001b[0m \u001b[1;33m(\u001b[0m\u001b[1;33m(\u001b[0m\u001b[0mdBall\u001b[0m\u001b[1;33m/\u001b[0m\u001b[1;36m100\u001b[0m\u001b[1;33m)\u001b[0m\u001b[1;33m**\u001b[0m\u001b[1;36m2.0\u001b[0m \u001b[1;33m-\u001b[0m \u001b[1;33m(\u001b[0m\u001b[0mdRail\u001b[0m\u001b[1;33m/\u001b[0m\u001b[1;36m100\u001b[0m\u001b[1;33m)\u001b[0m\u001b[1;33m**\u001b[0m\u001b[1;36m2.0\u001b[0m\u001b[1;33m)\u001b[0m\u001b[1;33m)\u001b[0m  \u001b[1;33m)\u001b[0m\u001b[1;33m)\u001b[0m\u001b[1;33m\u001b[0m\u001b[1;33m\u001b[0m\u001b[0m\n\u001b[0m\u001b[0;32m     12\u001b[0m     \u001b[1;32mreturn\u001b[0m \u001b[0mg\u001b[0m\u001b[1;33m\u001b[0m\u001b[1;33m\u001b[0m\u001b[0m\n\u001b[0;32m     13\u001b[0m \u001b[1;33m\u001b[0m\u001b[0m\n",
      "\u001b[1;32m~\\anaconda3\\envs\\appstat\\lib\\site-packages\\sympy\\core\\expr.py\u001b[0m in \u001b[0;36m__float__\u001b[1;34m(self)\u001b[0m\n\u001b[0;32m    357\u001b[0m         \u001b[1;32mif\u001b[0m \u001b[0mresult\u001b[0m\u001b[1;33m.\u001b[0m\u001b[0mis_number\u001b[0m \u001b[1;32mand\u001b[0m \u001b[0mresult\u001b[0m\u001b[1;33m.\u001b[0m\u001b[0mas_real_imag\u001b[0m\u001b[1;33m(\u001b[0m\u001b[1;33m)\u001b[0m\u001b[1;33m[\u001b[0m\u001b[1;36m1\u001b[0m\u001b[1;33m]\u001b[0m\u001b[1;33m:\u001b[0m\u001b[1;33m\u001b[0m\u001b[1;33m\u001b[0m\u001b[0m\n\u001b[0;32m    358\u001b[0m             \u001b[1;32mraise\u001b[0m \u001b[0mTypeError\u001b[0m\u001b[1;33m(\u001b[0m\u001b[1;34m\"can't convert complex to float\"\u001b[0m\u001b[1;33m)\u001b[0m\u001b[1;33m\u001b[0m\u001b[1;33m\u001b[0m\u001b[0m\n\u001b[1;32m--> 359\u001b[1;33m         \u001b[1;32mraise\u001b[0m \u001b[0mTypeError\u001b[0m\u001b[1;33m(\u001b[0m\u001b[1;34m\"can't convert expression to float\"\u001b[0m\u001b[1;33m)\u001b[0m\u001b[1;33m\u001b[0m\u001b[1;33m\u001b[0m\u001b[0m\n\u001b[0m\u001b[0;32m    360\u001b[0m \u001b[1;33m\u001b[0m\u001b[0m\n\u001b[0;32m    361\u001b[0m     \u001b[1;32mdef\u001b[0m \u001b[0m__complex__\u001b[0m\u001b[1;33m(\u001b[0m\u001b[0mself\u001b[0m\u001b[1;33m)\u001b[0m\u001b[1;33m:\u001b[0m\u001b[1;33m\u001b[0m\u001b[1;33m\u001b[0m\u001b[0m\n",
      "\u001b[1;31mTypeError\u001b[0m: can't convert expression to float"
     ]
    }
   ],
   "source": [
    "def read_csv(filename): # File reading\n",
    "    dat = np.genfromtxt(filename, delimiter=',', skip_header=13, names=True)\n",
    "    time = dat['Time_s']\n",
    "    voltage = dat['Channel_1_V']\n",
    "    return time, voltage\n",
    "\n",
    "def polynomial(x, a, b, c): # Polynomial fit\n",
    "    return a*(1/2)*x**2 + b*x + c\n",
    "\n",
    "def gravity(ac, angle, angle_adjust, dBall, dRail): # Function for g\n",
    "    g = (ac/math.sin(math.radians(angle + angle_adjust) )*( 1.0 + (0.4)*( ((dBall/100)**2.0) / ((dBall/100)**2.0 - (dRail/100)**2.0))  ))\n",
    "    return g\n",
    "    \n",
    "ac,angle,angle_adjust,dBall,dRail = sympy.symbols('ac angle angle_adjust dBall dRail')\n",
    "    \n",
    "g_diff_ac = gravity(ac, angle, angle_adjust, dBall, dRail).diff(ac)\n",
    "g_diff_angle = gravity(ac, angle, angle_adjust, dBall, dRail).diff(angle)\n",
    "g_diff_adjust = gravity(ac, angle, angle_adjust, dBall, dRail).diff(angle_adjust)\n",
    "g_diff_ball = gravity(ac, angle, angle_adjust, dBall, dRail).diff(dBall)\n",
    "g_diff_rail = gravity(ac, angle, angle_adjust, dBall, dRail).diff(dRail)\n",
    "\n",
    "#g_diff_ac = Derivative(grav,a)\n",
    "#g_diff_angle = Derivative(grav,an)\n",
    "#g_diff_adjust = Derivative(grav,ana)\n",
    "#g_diff_ball = Derivative(grav,db)\n",
    "#g_diff_rail = Derivative(grav,dr)\n",
    "    \n",
    "gdac = lambdify(ac,g_diff_ac,'numpy')\n",
    "gdangle = lambdify(angle,g_diff_angle,'numpy')\n",
    "gdadjust = lambdify(angle_adjust,g_diff_adjust,'numpy')\n",
    "gdball = lambdify(dBall,g_diff_ball,'numpy')\n",
    "gdrail = lambdify(dRail,g_diff_rail,'numpy')"
   ]
  },
  {
   "cell_type": "code",
   "execution_count": null,
   "metadata": {},
   "outputs": [],
   "source": [
    "def g_e(ac, angle, angle_adjust, dBall, dRail, ac_e, angle_e, angle_a_e, dBall_e, dRail_e): # Error propagated g\n",
    "    \n",
    "    g_e = np.sqrt( ((gdac(ac))**{2})*(ac_e)**{2} + ((gdangle(angle))**{2})*(angle_e)**{2} + ((gdadjust(angle_adjust))**{2})*(angle_a_e)**{2} +((gdball(dBall))**{2})*(dBall_e)**{2} + ((gdrail(dRail))**{2})*(dRail_e)**{2} )\n",
    "    \n",
    "    return g_e\n",
    "\n",
    "def weighted_avg_and_std(values, weights):\n",
    "    average = np.average(values, weights=weights)\n",
    "    variance = np.average((values-average)**2, weights=weights)\n",
    "    return (average, math.sqrt(variance))"
   ]
  },
  {
   "cell_type": "code",
   "execution_count": null,
   "metadata": {},
   "outputs": [],
   "source": [
    "Paths = 'Data/Incline/Small Ball/First position' # Specify data"
   ]
  },
  {
   "cell_type": "code",
   "execution_count": null,
   "metadata": {},
   "outputs": [],
   "source": [
    "# Arrays of data directly measured\n",
    "Angle_first = [14.3,14.3,14.3,14.1,14.3]\n",
    "Angle_first_e = [0.5,0.5,0.2,0.5,0.5]\n",
    "\n",
    "Angle_f, Angle_f_e = weighted_avg_and_std(Angle_first,Angle_first_e)\n",
    "\n",
    "Angle_second = [13.1,13.15,13.1,13.2,13.0]\n",
    "Angle_second_e = [0.3,0.5,0.2,0.3,0.2]\n",
    "\n",
    "Angle_s, Angle_s_e = weighted_avg_and_std(Angle_second,Angle_second_e)\n",
    "\n",
    "Small_ball = [1.2,1.2,1.2,1.2,1.2]\n",
    "Small_ball_e = [0.01,0.04,0.01,0.01,0.02]\n",
    "\n",
    "Smol_bol, Smol_bol_e = weighted_avg_and_std(Small_ball,Small_ball_e)\n",
    "\n",
    "D_rail = [0.612,0.628,0.605,0.6,0.63]\n",
    "D_rail_e = [0.04,0.05,0.03,0.05,0.05]\n",
    "\n",
    "D_rail_avg, D_rail_e = weighted_avg_and_std(D_rail,D_rail_e)\n",
    "\n",
    "Gate_1 = [22.6,22.6,22.6,22.55,22.58]\n",
    "Gate_2 = [39.15,39.15,39.2,39.15,39.19]\n",
    "Gate_3 = [56.75,56.8,56.85,56.75,56.81]\n",
    "Gate_4 = [73.3,73.25,73.35,73.26,73.24]\n",
    "Gate_5 = [90.9,90.85,91.1,90.9,90.88]\n",
    "\n",
    "Gate_list = [Gate_1,Gate_2,Gate_3,Gate_4,Gate_5]\n",
    "\n",
    "Gate_1_e = [0.3,0.1,0.3,0.1,0.1]\n",
    "Gate_2_e = [0.3,0.1,0.3,0.1,0.1]\n",
    "Gate_3_e = [0.3,0.05,0.3,0.1,0.1]\n",
    "Gate_4_e = [0.3,0.05,0.3,0.1,0.1]\n",
    "Gate_5_e = [0.3,0.1,0.3,0.1,0.1]\n",
    "\n",
    "Gate_list_e = [Gate_1_e,Gate_2_e,Gate_3_e,Gate_4_e,Gate_5_e] # Convert cm to m "
   ]
  },
  {
   "cell_type": "code",
   "execution_count": null,
   "metadata": {},
   "outputs": [],
   "source": [
    "# Adjustment to angle from measured differences\n",
    "Angles_delta = Angle_s - Angle_f # Maybe\n",
    "Angles_delta_e = np.sqrt(Angle_f_e**2 + Angle_s_e**2)"
   ]
  },
  {
   "cell_type": "code",
   "execution_count": null,
   "metadata": {},
   "outputs": [],
   "source": [
    "# Weighted means of gates\n",
    "Gates = []\n",
    "Gates_e = []\n",
    "\n",
    "for gate,gate_e in zip(Gate_list,Gate_list_e):\n",
    "    average, std = weighted_avg_and_std(gate,gate_e)\n",
    "    Gates.append(average)\n",
    "    Gates_e.append(std)\n",
    "    \n",
    "Gates = [i / 100 for i in Gates] # Conversion from cm to m\n",
    "Gates_e = [i / 100 for i in Gates_e]"
   ]
  },
  {
   "cell_type": "code",
   "execution_count": null,
   "metadata": {},
   "outputs": [],
   "source": [
    "chi2_values = []\n",
    "accels = []\n",
    "accels_e = []\n",
    "gs = []\n",
    "gs_e = []"
   ]
  },
  {
   "cell_type": "code",
   "execution_count": null,
   "metadata": {},
   "outputs": [],
   "source": [
    "for filename in os.listdir(Paths): # Loops over every file in specified folder\n",
    "    f = os.path.join(Paths, filename)\n",
    "    if os.path.isfile(f):\n",
    "        time, voltage = read_csv(f)\n",
    "        peaks = sp.find_peaks(voltage, height = 4, distance = 100)\n",
    "        time_0 = []\n",
    "        for i in peaks[0]:\n",
    "            time_0.append(time[i])\n",
    "            \n",
    "        accel_chi2 = Chi2Regression(polynomial,time_0,Gates,Gates_e)\n",
    "        accel_chi2.errordef = 1.0\n",
    "        MinuitAccel = Minuit(accel_chi2,a=0,b=0,c=0)\n",
    "        MinuitAccel.migrad()\n",
    "        Chi2Accel = MinuitAccel.fval\n",
    "        chi2_values.append(Chi2Accel) # Save chi2 to empty list\n",
    "        \n",
    "        # Receive acceleration and other stuff\n",
    "        fit_accel, fit_vel, fit_start = MinuitAccel.values[:]\n",
    "        fit_accel_e, fit_vel_e, fit_start_e = MinuitAccel.errors[:]\n",
    "        accels.append(fit_accel)\n",
    "        accels_e.append(fit_accel_e)\n",
    "        \n",
    "        # Ensure correct parameters are inserted\n",
    "        acc,acc_e = weighted_avg_and_std(accels,accels_e)\n",
    "        g = gravity(ac = acc, angle = Angle_f, angle_adjust = Angles_delta, dBall = Smol_bol, dRail = D_rail_avg)\n",
    "        gs.append(g)\n",
    "        g_ee = g_e(ac = acc, angle = Angle_f, angle_adjust = Angles_delta, dBall = Smol_bol, dRail = D_rail_avg, ac_e = acc_e, angle_e = Angle_f_e, angle_a_e = Angles_delta_e, dBall_e = Smol_bol_e, dRail_e = D_rail_e)\n",
    "        gs_e.append(g_ee)"
   ]
  },
  {
   "cell_type": "code",
   "execution_count": null,
   "metadata": {},
   "outputs": [],
   "source": [
    "print(chi2_values)\n",
    "print(accels)\n",
    "print(accels_e)\n",
    "print(gs)"
   ]
  },
  {
   "cell_type": "code",
   "execution_count": null,
   "metadata": {},
   "outputs": [],
   "source": [
    "# Take weighted mean of all g\n",
    "true_g, true_g_e = weighted_avg_and_std(gs,gs_e)\n",
    "print(true_g)\n",
    "print(true_g_e)"
   ]
  }
 ],
 "metadata": {
  "kernelspec": {
   "display_name": "Python 3 (ipykernel)",
   "language": "python",
   "name": "python3"
  },
  "language_info": {
   "codemirror_mode": {
    "name": "ipython",
    "version": 3
   },
   "file_extension": ".py",
   "mimetype": "text/x-python",
   "name": "python",
   "nbconvert_exporter": "python",
   "pygments_lexer": "ipython3",
   "version": "3.9.7"
  }
 },
 "nbformat": 4,
 "nbformat_minor": 4
}
