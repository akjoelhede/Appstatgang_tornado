{
 "cells": [
  {
   "cell_type": "code",
   "execution_count": 2,
   "metadata": {},
   "outputs": [],
   "source": [
    "import numpy as np                                     # Matlab like syntax for linear algebra and functions\n",
    "import matplotlib.pyplot as plt                        # Plots and figures like you know them from Matlab\n",
    "import seaborn as sns       \n",
    "import pandas as pd                           # Make the plots nicer to look at\n",
    "from iminuit import Minuit                             # The actual fitting tool, better than scipy's\n",
    "import sys                                             # Modules to see files and folders in directories\n",
    "from scipy import stats\n",
    "from iminuit.cost import LeastSquares\n",
    "from scipy import optimize\n",
    "from scipy.stats import kstest\n",
    "from scipy.stats import poisson\n",
    "\n",
    "sys.path.append('../External_Functions')\n",
    "from ExternalFunctions import Chi2Regression, BinnedLH, UnbinnedLH\n",
    "from ExternalFunctions import nice_string_output, add_text_to_ax    # Useful functions to print fit results on figure\n",
    "\n",
    "\n",
    "plt.rcParams['font.size'] = 18     # Set some basic plotting parameters"
   ]
  },
  {
   "cell_type": "code",
   "execution_count": null,
   "metadata": {},
   "outputs": [],
   "source": [
    "def fisher(a,b):\n",
    "\t\t#From the plots we can see that separating the data according the the A and B category with a fisher projection can work.\n",
    "\t#F = w0 + w•x\n",
    "\t#w = sum(covariance matrix healthy and covariance matrix sick)^-1*(meanhealthy-meansick)\n",
    "\ts_cov_AB = np.mean(b[sick==1]*a[sick==1])-np.mean(b[sick==1])*np.mean(a[sick==1])\n",
    "\ts_cov_AA = np.mean(a[sick==1]*a[sick==1])-np.mean(a[sick==1])*np.mean(a[sick==1])\n",
    "\ts_cov_BB = np.mean(b[sick==1]*b[sick==1])-np.mean(b[sick==1])*np.mean(b[sick==1])\n",
    "\n",
    "\th_cov_AB = np.mean(b[sick==0]*a[sick==0])-np.mean(b[sick==0])*np.mean(a[sick==0])\n",
    "\th_cov_AA = np.mean(a[sick==0]*a[sick==0])-np.mean(a[sick==0])*np.mean(a[sick==0])\n",
    "\th_cov_BB = np.mean(b[sick==0]*b[sick==0])-np.mean(b[sick==0])*np.mean(b[sick==0])\n",
    "\n",
    "\t#make the matrices with covariance\n",
    "\tM_S = np.array([[s_cov_AA, s_cov_AB],[s_cov_AB, s_cov_BB]])\n",
    "\tH_S = np.array([[h_cov_AA, h_cov_AB],[h_cov_AB, h_cov_BB]])\n",
    "\n",
    "\t#make the mean difference vector\n",
    "\ts_mA = np.mean(a[sick==1])\n",
    "\ts_mB = np.mean(b[sick==1])\n",
    "\th_mA = np.mean(a[sick==0])\n",
    "\th_mB = np.mean(b[sick==0])\n",
    "\t#mean_vector = np.array([s_mA - h_mA, s_mB - h_mB])\n",
    "\tmean_vector = np.array([h_mA - s_mA, h_mB - s_mB])\n",
    "\n",
    "\tmatrix_in = np.linalg.inv(M_S+H_S)\n",
    "\tprint(f\"m_inv {matrix_in.shape}\") \n",
    "\tprint(f\"mean_vector {mean_vector}\")\n",
    "\tweights = matrix_in.dot(mean_vector)\n",
    "\tprint(f\"weights {weights.shape}\")\n",
    "\n",
    "\tdata_merge = np.asmatrix([a[sick==1],b[sick==1]]) #Only sick data\n",
    "\tprint(f\"data {data_merge.shape}\")\n",
    "\n",
    "\tF = np.array(weights.T.dot(data_merge)) \n",
    "\tF2 = F[0,:] #this is just because the format i got out for F cannot be plotted in a histogram\n",
    "\tprint(F2.shape)\n",
    "\n",
    "\tdata_merge_h = np.asmatrix([a[sick==0],b[sick==0]]) #only healthy data\n",
    "\tFh = np.array(weights.T.dot(data_merge_h))\n",
    "\tF2h = Fh[0,:]\n",
    "\n",
    "\treturn F2, F2h"
   ]
  }
 ],
 "metadata": {
  "kernelspec": {
   "display_name": "Python 3",
   "language": "python",
   "name": "python3"
  },
  "language_info": {
   "codemirror_mode": {
    "name": "ipython",
    "version": 3
   },
   "file_extension": ".py",
   "mimetype": "text/x-python",
   "name": "python",
   "nbconvert_exporter": "python",
   "pygments_lexer": "ipython3",
   "version": "3.9.10"
  },
  "orig_nbformat": 4,
  "vscode": {
   "interpreter": {
    "hash": "ac2eaa0ea0ebeafcc7822e65e46aa9d4f966f30b695406963e145ea4a91cd4fc"
   }
  }
 },
 "nbformat": 4,
 "nbformat_minor": 2
}
