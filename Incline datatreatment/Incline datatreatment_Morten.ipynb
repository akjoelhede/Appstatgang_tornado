{
 "cells": [
  {
   "cell_type": "code",
<<<<<<< HEAD
   "execution_count": 1,
   "id": "b18d5983",
=======
   "execution_count": 6,
   "id": "850658e2",
>>>>>>> 822e8379b9afe935c2f9b064954a4cfdc448dd0e
   "metadata": {},
   "outputs": [],
   "source": [
    "# Imports\n",
    "import os, sys\n",
    "import numpy as np\n",
    "import matplotlib.pyplot as plt\n",
    "import pandas as pd\n",
    "import scipy.signal as sp\n",
    "from scipy import stats\n",
    "from iminuit import Minuit\n",
    "from iminuit.cost import LeastSquares"
   ]
  },
  {
   "cell_type": "code",
<<<<<<< HEAD
   "execution_count": 2,
   "id": "c81b566f",
   "metadata": {},
   "outputs": [
    {
     "data": {
      "text/plain": [
       "0.7483314773547883"
      ]
     },
     "execution_count": 2,
     "metadata": {},
     "output_type": "execute_result"
    }
   ],
   "source": [
    "#residuals = polynomial(np.array([1, 2, 3]), a_res, b_res, c_res)\n",
    "residuals = np.array([1, 2, 3, 2, 1])\n",
    "residuals.std()"
   ]
  },
  {
   "cell_type": "code",
   "execution_count": 3,
   "id": "5021bd57",
=======
   "execution_count": 7,
   "id": "a114049c",
>>>>>>> 822e8379b9afe935c2f9b064954a4cfdc448dd0e
   "metadata": {},
   "outputs": [],
   "source": [
    "#function that reads the data, turning it into a pandas dataframe\n",
    "def read_csv(filename):\n",
    "    dat = pd.read_csv(filename, sep = ',', header = 13, names = [\"Time (s)\", \"voltage (V)\"]) \n",
    "    return dat\n",
    "\n",
    "def polynomial(x, a, b, c): #polynomisk function til fit\n",
    "    return a + x * b + 0.5 * x**2 * c\n",
    "\n",
    "#function for calculating acceleration on a dataset. returns acceleration a [WIP]\n",
    "def acceleration_calc(filename, D_sensor): #string, float, float, float, list of floats, list of floats\n",
    "\n",
    "    dat = read_csv(filename)\n",
    "    peaks = sp.find_peaks(dat[\"voltage (V)\"], height = 4, distance = 100)\n",
    "    time = []\n",
    "    for i in peaks[0]: #find tiderne hvor vi passerer, laver liste fra første gate til sidste.\n",
    "        time.append(dat[\"Time (s)\"][i])\n",
    "    time = np.array(time)\n",
    "    distsensor = D_sensor.iloc[[4], [0, 2, 4, 6, 8]].to_numpy()[0]\n",
    "    edistsensor = D_sensor.iloc[[4], [1, 3, 5, 7, 9]].to_numpy()[0]\n",
    "\n",
    "    least_squares = LeastSquares(time, distsensor, edistsensor, polynomial) #for the minuit least squares fitting function. use chisquare instead?\n",
    "    m = Minuit(least_squares, a=0, b=0, c=0)\n",
    "    m.migrad()\n",
    "    m.hesse()\n",
    "    acc = m.values[2]\n",
    "    eacc = m.errors[2]\n",
    "\n",
    "    #calculate the residuals for plotting\n",
    "    a_res = m.values[0]\n",
    "    b_res = m.values[1]\n",
    "    c_res = m.values[2]\n",
    "    residuals = polynomial(time, a_res, b_res, c_res)\n",
    "    eresiduals = residuals.std() # errors on residuals are simply statistical gaussian rho\n",
    "    \n",
    "    #plot the data with fit, maybe remove when we are confident everything works\n",
    "    plt.errorbar(time, distsensor, edistsensor, fmt=\"o\", label=\"data\") #plot data\n",
    "    plt.plot(time, polynomial(time, *m.values), label=\"fit\") #plot fitted line\n",
    "    # display legend with some fit info\n",
    "    fit_info = [\n",
    "        f\"$\\\\chi^2$ / $n_\\\\mathrm{{dof}}$ = {m.fval:.1f} / {len(time) - m.nfit}\",\n",
    "    ]\n",
    "    for p, v, e in zip(m.parameters, m.values, m.errors):\n",
    "        fit_info.append(f\"{p} = ${v:.3f} \\\\pm {e:.3f}$\")\n",
    "    plt.legend(title=\"\\n\".join(fit_info));\n",
    "    return acc, eacc\n",
    "\n",
    "#weighted mean calculation, returns weighted mean, error on the mean, chi2, and chi2 probability.\n",
    "def w_mean(data, err): \n",
    "    mean_weighted = np.sum(data/(err**2))/np.sum(1/err**2)\n",
    "    err_weighted = np.sqrt(1/np.sum(1/err**2))\n",
    "    chi2 = np.sum(((data - mean_weighted) / err)**2)\n",
    "    n = len(data)\n",
    "    chi2_prob = stats.chi2.sf(chi2, n)\n",
    "    return [mean_weighted, err_weighted, chi2, chi2_prob]\n",
    "\n",
    "#mean calculation, calculating the statistical error\n",
    "def mean(data):\n",
    "    mean = np.sum(data)/len(data)\n",
    "    datasq = np.sum(data**2)/len(data)   #the mean of the square data, for the rho calculation\n",
    "    rho = np. sqrt(datasq - mean**2)\n",
    "    return mean, rho\n",
    "\n",
    "\n",
    "#function for calculating positions of sensors\n",
    "'''\n",
    "def sensor_position(D_sensor): #input a pd dataframe. output a 2d dataframe of sensor positions, error, chi2 and chi2prob\n",
    "    sensor_positions = pd.DataFrame(data = [], index = [\"D\", \"eD\", \"chi2\", \"chi2_prob\"])\n",
    "    sensor_positions.insert(0, \"gate1\", w_mean(D_sensor[\"gate1\"], D_sensor[\"egate1\"]))\n",
    "    sensor_positions.insert(1, \"gate2\", w_mean(D_sensor[\"gate2\"], D_sensor[\"egate2\"]))\n",
    "    sensor_positions.insert(2, \"gate3\", w_mean(D_sensor[\"gate3\"], D_sensor[\"egate3\"]))\n",
    "    sensor_positions.insert(3, \"gate4\", w_mean(D_sensor[\"gate4\"], D_sensor[\"egate4\"]))\n",
    "    sensor_positions.insert(4, \"gate5\", w_mean(D_sensor[\"gate5\"], D_sensor[\"egate5\"]))\n",
    "    \n",
    "    return sensor_positions\n",
    "'''\n",
    "\n",
    "def meaner (dataframe): #input a dataframe of observations, adds weighted mean and error as another row, followed by a row of chi2 and chi2prob\n",
    "    sensordist = []\n",
    "    sensorchi = []\n",
    "    n = 0\n",
    "    for column in dataframe:\n",
    "        if n % 2 == 0 :\n",
    "            precolumn = column\n",
    "        else :\n",
    "            mean, err, chi2, chi2prob = w_mean(dataframe[precolumn], dataframe[column])\n",
    "            sensordist.append(mean)\n",
    "            sensordist.append(err)\n",
    "            sensorchi.append(chi2)\n",
    "            sensorchi.append(chi2prob)\n",
    "        n += 1\n",
    "    dataframe.loc[len(dataframe.index)] = sensordist\n",
    "    dataframe.loc[len(dataframe.index)] = sensorchi\n",
    "    \n",
    "\n",
    "#function for calculating g\n",
    "def gravity_acc (acc, theta, D_ball, D_rail):\n",
    "    g_first = acc / np.sin(theta*np.pi/180)\n",
    "    g_second = 1 + (2/5) * (D_ball**2) / ((D_ball**2)-(D_rail**2))\n",
    "    g = g_first * g_second\n",
    "    \n",
    "    return g\n",
    "\n",
    "#calculate error on g\n",
    "def egravity_acc (acc, theta, D_ball, d_rail, eacc, etheta, eD_ball, eD_rail):\n",
    "    rho_a = (1+(2*D_ball**2)/(D_ball**2-d_rail**2))/np.sin(theta*np.pi/180)\n",
    "    a_contr = rho_a**2 * eacc**2\n",
    "    a = acc*np.cos(theta*np.pi/180)\n",
    "    b1 = 2 * (D_ball**2)\n",
    "    b2 = 5 * ((D_ball**2) - (d_rail**2))\n",
    "    b = 1 + (b1 / b2)\n",
    "    c = (np.sin(theta*np.pi/180))**2\n",
    "    rho_theta = (a) * (b) / (c)\n",
    "    theta_contr = rho_theta**2 * (etheta*np.pi/180)**2\n",
    "    rho_D_ball = acc*(4*D_ball/5*(D_ball**2-d_rail**2)-4*D_ball**3/(5*(D_ball**2-d_rail**2)**2)/np.sin(theta*np.pi/180))\n",
    "    D_ball_contr = rho_D_ball**2 * eD_ball**2\n",
    "    rho_d_rail = 4*acc*D_ball**2*d_rail/5*np.sin(theta*np.pi/180)*(D_ball**2-d_rail**2)**2\n",
    "    d_rail_contr = rho_d_rail**2 * eD_rail**2\n",
    "    eg = np.sqrt(a_contr + theta_contr + D_ball_contr + d_rail_contr)\n",
    "    return eg\n",
    "\n",
    "#choosing the correct ball parameters\n",
    "def loadball(ballsize): #input: ballsize = \"l\", \"s\" or \"xs\"\n",
    "    if ballsize == \"l\" :\n",
    "        D_ball = D_balls.iloc[[5], [0]].to_numpy()[0]\n",
    "        eD_ball = D_balls.iloc[[5], [1]].to_numpy()[0]\n",
    "        chi2_ball = D_balls.iloc[[6], [0]].to_numpy()[0]\n",
    "        chi2prob_ball = D_balls.iloc[[5], [1]].to_numpy()[0]\n",
    "    elif ballsize == \"s\":\n",
    "        D_ball = D_balls.iloc[[5], [2]].to_numpy()[0]\n",
    "        eD_ball = D_balls.iloc[[5], [3]].to_numpy()[0]\n",
    "        chi2_ball = D_balls.iloc[[6], [2]].to_numpy()[0]\n",
    "        chi2prob_ball = D_balls.iloc[[5], [3]].to_numpy()[0]\n",
    "    elif ballsize == \"xs\":\n",
    "        D_ball = D_balls.iloc[[5], [4]].to_numpy()[0]\n",
    "        eD_ball = D_balls.iloc[[5], [5]].to_numpy()[0]\n",
    "        chi2_ball = D_balls.iloc[[6], [4]].to_numpy()[0]\n",
    "        chi2prob_ball = D_balls.iloc[[5], [5]].to_numpy()[0]\n",
    "    else :\n",
    "        return \"error: ball size must be l, s, or xs\"\n",
    "    return D_ball, eD_ball, chi2_ball, chi2prob_ball\n",
    "\n",
    "#choosing the correct anlge parameters\n",
    "def loadposition(position): #input: ballsize = \"first\" or \"second\"\n",
    "    if position == \"first\" :\n",
    "        thetas = theta.iloc[[5], [0]].to_numpy()[0]\n",
    "        ethetas = theta.iloc[[5], [1]].to_numpy()[0]\n",
    "        chi2_thetas = theta.iloc[[6], [0]].to_numpy()[0]\n",
    "        chi2prob_thetas = theta.iloc[[5], [1]].to_numpy()[0]\n",
    "    elif position == \"second\":\n",
    "        thetas = theta.iloc[[5], [2]].to_numpy()[0]\n",
    "        ethetas = theta.iloc[[5], [3]].to_numpy()[0]\n",
    "        chi2_thetas = theta.iloc[[6], [2]].to_numpy()[0]\n",
    "        chi2prob_thetas = theta.iloc[[5], [3]].to_numpy()[0]\n",
    "    else :\n",
    "        return \"error: position must be first or second\"\n",
    "    return thetas, ethetas, chi2_thetas, chi2prob_thetas"
   ]
  },
  {
   "cell_type": "code",
   "execution_count": null,
   "id": "9560878e",
   "metadata": {},
   "outputs": [],
   "source": []
  },
  {
   "cell_type": "code",
<<<<<<< HEAD
   "execution_count": 4,
   "id": "7bcc8dc2",
=======
   "execution_count": 8,
   "id": "ba44754e",
>>>>>>> 822e8379b9afe935c2f9b064954a4cfdc448dd0e
   "metadata": {},
   "outputs": [
    {
     "name": "stderr",
     "output_type": "stream",
     "text": [
<<<<<<< HEAD
      "C:\\Users\\mschw\\AppData\\Local\\Temp\\ipykernel_23760\\1193635279.py:49: RuntimeWarning: invalid value encountered in double_scalars\n",
=======
      "/var/folders/63/gwq1zc2x00j6dxvm9c1j0rbm0000gn/T/ipykernel_90878/494479414.py:42: RuntimeWarning: invalid value encountered in double_scalars\n",
>>>>>>> 822e8379b9afe935c2f9b064954a4cfdc448dd0e
      "  mean_weighted = np.sum(data/(err**2))/np.sum(1/err**2)\n"
     ]
    },
    {
     "data": {
      "text/plain": [
       "'\\nsensordist = []\\nn = 0\\nfor column in D_balls:\\n    if n % 2 == 0 :\\n        precolumn = column\\n    else :\\n        mean, err, chi2, chi2prob = w_mean(D_balls[precolumn], D_balls[column])\\n        sensordist.append(mean)\\n        sensordist.append(err)\\n    n += 1\\nD_balls.loc[len(D_balls.index)] = sensordist\\n'"
      ]
     },
<<<<<<< HEAD
     "execution_count": 4,
=======
     "execution_count": 8,
>>>>>>> 822e8379b9afe935c2f9b064954a4cfdc448dd0e
     "metadata": {},
     "output_type": "execute_result"
    }
   ],
   "source": [
    "#make pd. dataframes containing measured lengths\n",
    "#photogate placement\n",
    "gate1 = [22.6, 22.6, 22.6, 22.55, 22.58]\n",
    "gate2 = [39.15, 39.15, 39.2, 39.15, 39.19]\n",
    "gate3 = [56.75, 56.8, 56.85, 56.75, 56.81]\n",
    "gate4 = [73.3, 73.25, 73.35, 73.26, 73.24]\n",
    "gate5 = [90.9, 90.85, 91.1, 90.9, 90.88]\n",
    "egate1 = [0.3, 0.1, 0.3, 0.1, 0.1]\n",
    "egate2 = [0.3, 0.1, 0.3, 0.1, 0.1]\n",
    "egate3 = [0.3, 0.05, 0.3, 0.1, 0.1]\n",
    "egate4 = [0.3, 0.05, 0.3, 0.1, 0.1]\n",
    "egate5 = [0.3, 0.1, 0.3, 0.1, 0.1]\n",
    "\n",
    "#D_sensor = pd.DataFrame(data = [gate1, egate1, gate2, egate2, gate3, egate3, gate4, egate4, gate5, egate5], index = [\"gate1\", \"egate1\", \"gate2\", \"egate2\", \"gate3\", \"egate3\", \"gate4\", \"egate4\", \"gate5\", \"egate5\", ])\n",
    "D_sensor = pd.DataFrame(data = [], index = [])\n",
    "D_sensor.insert(0, \"gate1\", gate1)\n",
    "D_sensor.insert(1, \"egate1\", egate1)\n",
    "D_sensor.insert(2, \"gate2\", gate2)\n",
    "D_sensor.insert(3, \"egate2\", egate2)\n",
    "D_sensor.insert(4, \"gate3\", gate3)\n",
    "D_sensor.insert(5, \"egate3\", egate3)\n",
    "D_sensor.insert(6, \"gate4\", gate4)\n",
    "D_sensor.insert(7, \"egate4\", egate4)\n",
    "D_sensor.insert(8, \"gate5\", gate5)\n",
    "D_sensor.insert(9, \"egate5\", egate5)\n",
    "\n",
    "#add a sixth row containing weighted means and their errors\n",
    "'''\n",
    "sensordist = []\n",
    "n = 0\n",
    "for column in D_sensor:\n",
    "    if n % 2 == 0 :\n",
    "        precolumn = column\n",
    "    else :\n",
    "        mean, err, chi2, chi2prob = w_mean(D_sensor[precolumn], D_sensor[column])\n",
    "        sensordist.append(mean)\n",
    "        sensordist.append(err)\n",
    "    n += 1\n",
    "D_sensor.loc[len(D_sensor.index)] = sensordist\n",
    "'''\n",
    "meaner(D_sensor)\n",
    "\n",
    "#width of rail\n",
    "width_rail = [0.612, 0.628, 0.605, 0.6, 0.63]\n",
    "ewidth_rail = [0.04, 0.05, 0.03, 0.05, 0.05]\n",
    "\n",
    "D_rail = pd.DataFrame(data = [], index = [])\n",
    "D_rail.insert(0, \"D_rail\", width_rail)\n",
    "D_rail.insert(1, \"eD_rail\", ewidth_rail)\n",
    "\n",
    "meaner(D_rail)\n",
    "'''\n",
    "sensordist = []\n",
    "n = 0\n",
    "for column in D_rail:\n",
    "    if n % 2 == 0 :\n",
    "        precolumn = column\n",
    "    else :\n",
    "        mean, err, chi2, chi2prob = w_mean(D_rail[precolumn], D_rail[column])\n",
    "        sensordist.append(mean)\n",
    "        sensordist.append(err)\n",
    "    n += 1\n",
    "D_rail.loc[len(D_rail.index)] = sensordist\n",
    "'''\n",
    "\n",
    "#angles\n",
    "theta_f = [14.3, 14.3, 14.3, 14.1, 14.3]\n",
    "etheta_f = [0.5, 0.5, 0.2, 0.5, 0.5]\n",
    "theta_s = [13.1, 13.15, 13.1, 13.2, 13.0]\n",
    "etheta_s = [0.3, 0.5, 0.2, 0.3, 0.2]\n",
    "theta = pd.DataFrame(data = [], index = [])\n",
    "theta.insert(0, \"theta_f\", theta_f)\n",
    "theta.insert(1, \"etheta_f\", etheta_f)\n",
    "theta.insert(2, \"theta_s\", theta_s)\n",
    "theta.insert(3, \"etheta_s\", etheta_s)\n",
    "\n",
    "meaner(theta)\n",
    "'''\n",
    "sensordist = []\n",
    "n = 0\n",
    "for column in theta:\n",
    "    if n % 2 == 0 :\n",
    "        precolumn = column\n",
    "    else :\n",
    "        mean, err, chi2, chi2prob = w_mean(theta[precolumn], theta[column])\n",
    "        sensordist.append(mean)\n",
    "        sensordist.append(err)\n",
    "    n += 1\n",
    "theta.loc[len(theta.index)] = sensordist\n",
    "'''\n",
    "#ball sizes\n",
    "\n",
    "D_ball_xs = [1.2, 1.2, 1.2, 1.2, 1.2]\n",
    "eD_ball_xs = [0.01, 0.04, 0, 0.01, 0.02]\n",
    "D_ball_s = [1.24, 1.258, 1.23, 1.25, 1.25]\n",
    "eD_ball_s = [0.02, 0.04, 0.05, 0.03, 0.03]\n",
    "D_ball_l = [1.48, 1.48, 1.49, 1.488, 1.491]\n",
    "eD_ball_l = [0.05, 0.03, 0.04, 0.03, 0.04]\n",
    "\n",
    "D_balls = pd. DataFrame(data = [], index = [])\n",
    "D_balls.insert(0, \"D_ball_l\", D_ball_l)\n",
    "D_balls.insert(1, \"eD_ball_l\", eD_ball_l)\n",
    "D_balls.insert(2, \"D_ball_s\", D_ball_s)\n",
    "D_balls.insert(3, \"eD_ball_s\", eD_ball_s)\n",
    "D_balls.insert(4, \"D_ball_xs\", D_ball_xs)\n",
    "D_balls.insert(5, \"eD_ball_xs\", eD_ball_xs)\n",
    "\n",
    "meaner(D_balls)\n",
    "\n",
    "'''\n",
    "sensordist = []\n",
    "n = 0\n",
    "for column in D_balls:\n",
    "    if n % 2 == 0 :\n",
    "        precolumn = column\n",
    "    else :\n",
    "        mean, err, chi2, chi2prob = w_mean(D_balls[precolumn], D_balls[column])\n",
    "        sensordist.append(mean)\n",
    "        sensordist.append(err)\n",
    "    n += 1\n",
    "D_balls.loc[len(D_balls.index)] = sensordist\n",
    "'''"
   ]
  },
  {
   "cell_type": "markdown",
   "id": "69912f08",
   "metadata": {},
   "source": [
    "Herefter køres kode"
   ]
  },
  {
   "cell_type": "code",
<<<<<<< HEAD
   "execution_count": 5,
   "id": "5d27a53c",
=======
   "execution_count": 9,
   "id": "79789ecf",
>>>>>>> 822e8379b9afe935c2f9b064954a4cfdc448dd0e
   "metadata": {},
   "outputs": [],
   "source": [
    "#bestem hvilken fil vi kører. Alt i denne celle skal laves til et loop\n",
    "filename = \"Anders_L_fp.csv\" #filename of the file to load\n",
    "path = \"../Data/Incline/\"    #path to the data\n",
    "\n",
    "ballsize = \"l\" #input: ballsize = \"l\", \"s\" or \"xs\"\n",
    "position = \"first\" #input: position = \"first\" or \"second\"\n",
    "\n",
    "#vælg de korrekte parametre til filen. Dette skal udskiftes til en funktion som tager inputs: ball size, position.\n",
    "\n",
    "\n",
    "D_ball, eD_ball, chi2_ball, chi2prob_ball = loadball(ballsize)\n",
    "thetas, ethetas, chi2_thetas, chi2prob_thetas = loadposition(position)\n",
    "\n",
    "#denne del bruger ikke en funktion, da vi kun har en rail.\n",
    "D_rails = D_rail.iloc[[5], [0]].to_numpy()[0]\n",
    "eD_rails = D_rail.iloc[[5], [1]].to_numpy()[0]\n",
    "chi2_rail = D_rail.iloc[[6], [0]].to_numpy()[0]\n",
    "chi2prob_rail = D_rail.iloc[[6], [1]].to_numpy()[0]\n",
    "\n"
   ]
  },
  {
   "cell_type": "code",
<<<<<<< HEAD
   "execution_count": 6,
   "id": "c25f22df",
=======
   "execution_count": 10,
   "id": "045942eb",
>>>>>>> 822e8379b9afe935c2f9b064954a4cfdc448dd0e
   "metadata": {
    "scrolled": true
   },
   "outputs": [
    {
     "name": "stdout",
     "output_type": "stream",
     "text": [
      "[935.05610681]\n",
      "[32.51714157]\n"
     ]
    },
    {
     "data": {
      "image/png": "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",
      "text/plain": [
       "<Figure size 640x480 with 1 Axes>"
      ]
     },
     "metadata": {},
     "output_type": "display_data"
    }
   ],
   "source": [
    "#udregn acceleration, g og error på g\n",
    "acc, eacc = acceleration_calc(path + filename, D_sensor)\n",
    "g = gravity_acc(acc, thetas, D_ball, D_rails)\n",
    "eg = egravity_acc (acc, thetas, D_ball, D_rails, eacc, ethetas, eD_ball, eD_rails)\n",
    "print(g)\n",
    "print(eg)"
   ]
  },
  {
   "cell_type": "code",
<<<<<<< HEAD
   "execution_count": 26,
   "id": "f6e37514",
   "metadata": {},
   "outputs": [
    {
     "data": {
      "text/plain": [
       "(-1.0, -0.9)"
      ]
     },
     "execution_count": 26,
     "metadata": {},
     "output_type": "execute_result"
    },
    {
     "data": {
      "image/png": "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\n",
      "text/plain": [
       "<Figure size 432x288 with 1 Axes>"
      ]
     },
     "metadata": {
      "needs_background": "light"
     },
     "output_type": "display_data"
    }
   ],
   "source": [
    "dat = read_csv(path + filename)\n",
    "peaks = sp.find_peaks(dat[\"voltage (V)\"], height = 4, distance = 80)\n",
    "time = []\n",
    "for i in peaks[0]: #find tiderne hvor vi passerer, laver liste fra første gate til sidste.\n",
    "    time.append(dat[\"Time (s)\"][i])\n",
    "time = np.array(time)\n",
    "\n",
    "plt.plot(dat[\"Time (s)\"], dat[\"voltage (V)\"])\n",
    "plt.plot(time, np.array([5,5,5,5,5]), 'o')\n",
    "plt.xlim(-1.0, -0.9)\n",
    "\n",
    "#ax.set()"
   ]
=======
   "execution_count": null,
   "id": "baaed4f2",
   "metadata": {},
   "outputs": [],
   "source": []
>>>>>>> 822e8379b9afe935c2f9b064954a4cfdc448dd0e
  },
  {
   "cell_type": "code",
   "execution_count": null,
   "id": "32dafccb",
   "metadata": {},
   "outputs": [],
   "source": []
  }
 ],
 "metadata": {
  "kernelspec": {
   "display_name": "Python 3.9.10 64-bit",
   "language": "python",
   "name": "python3"
  },
  "language_info": {
   "codemirror_mode": {
    "name": "ipython",
    "version": 3
   },
   "file_extension": ".py",
   "mimetype": "text/x-python",
   "name": "python",
   "nbconvert_exporter": "python",
   "pygments_lexer": "ipython3",
   "version": "3.9.10"
  },
  "vscode": {
   "interpreter": {
    "hash": "ac2eaa0ea0ebeafcc7822e65e46aa9d4f966f30b695406963e145ea4a91cd4fc"
   }
  }
 },
 "nbformat": 4,
 "nbformat_minor": 5
}
