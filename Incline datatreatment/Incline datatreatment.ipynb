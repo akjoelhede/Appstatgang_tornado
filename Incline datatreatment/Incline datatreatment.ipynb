{
 "cells": [
  {
   "cell_type": "code",
   "execution_count": 1,
   "id": "0f8da225",
   "metadata": {},
   "outputs": [],
   "source": [
    "# Imports\n",
    "import os, sys\n",
    "import numpy as np\n",
    "import matplotlib.pyplot as plt\n",
    "import pandas as pd\n",
    "import scipy.signal as sp\n",
    "from iminuit import Minuit\n",
    "from iminuit.cost import LeastSquares"
   ]
  },
  {
   "cell_type": "code",
   "execution_count": 37,
   "id": "b098411a",
   "metadata": {},
   "outputs": [],
   "source": [
    "#function that reads the data, turning it into a pandas dataframe\n",
    "def read_csv(filename):\n",
    "    dat = pd.read_csv(filename, sep = ',', header = 13, names = [\"Time (s)\", \"voltage (V)\"]) \n",
    "    return dat\n",
    "\n",
    "def polynomial(x, a, b, c): #polynomisk function til fit\n",
    "    return a + x * b + x**2 * c\n",
    "\n",
    "#function for calculating acceleration on a dataset. returns  [WIP]\n",
    "def acceleration_calc(filename, theta, D_ball, D_rail, D_sensor, eD_sensor): #string, float, float, float, list of floats, list of floats\n",
    "\n",
    "    dat = read_csv(filename)\n",
    "    peaks = sp.find_peaks(dat[\"voltage (V)\"], height = 4, distance = 100)\n",
    "    time = []\n",
    "    for i in peaks[0]: #find tiderne hvor vi passerer, laver liste fra første gate til sidste.\n",
    "        time.append(dat[\"Time (s)\"][i])\n",
    "    time = np.array(time)\n",
    "    least_squares = LeastSquares(time, D_sensor, eD_sensor, polynomial) #for the minuit least squares fitting function. use chisquare instead?\n",
    "    m = Minuit(least_squares, a=0, b=0, c=0)\n",
    "    m.migrad()\n",
    "    m.hesse()\n",
    "    #plot the data with fit, maybe remove when we are confident everything works\n",
    "    plt.errorbar(time, D_sensor, eD_sensor, fmt=\"o\", label=\"data\") #plot data\n",
    "    plt.plot(time, polynomial(time, *m.values), label=\"fit\") #plot fitted line\n",
    "    # display legend with some fit info\n",
    "    fit_info = [\n",
    "        f\"$\\\\chi^2$ / $n_\\\\mathrm{{dof}}$ = {m.fval:.1f} / {len(time) - m.nfit}\",\n",
    "    ]\n",
    "    for p, v, e in zip(m.parameters, m.values, m.errors):\n",
    "        fit_info.append(f\"{p} = ${v:.3f} \\\\pm {e:.3f}$\")\n",
    "    plt.legend(title=\"\\n\".join(fit_info));\n",
    "    return m.values[2]\n",
    "\n",
    "#function for calculating positions of sensors\n",
    "#def sensor_position(): #input a pd dataframe? make this when  you get data\n",
    "    \n",
    "\n",
    "#function for looping over all files in a directory"
   ]
  },
  {
   "cell_type": "code",
   "execution_count": 45,
   "id": "8ff4b6b6",
   "metadata": {},
   "outputs": [
    {
     "name": "stdout",
     "output_type": "stream",
     "text": [
      "92.53106975251073\n"
     ]
    },
    {
     "data": {
      "image/png": "[encoded data removed]",
      "text/plain": [
       "<Figure size 432x288 with 1 Axes>"
      ]
     },
     "metadata": {
      "needs_background": "light"
     },
     "output_type": "display_data"
    }
   ],
   "source": [
    "\n",
    "filename = \"Anders_L_fp.csv\" #filename of the file to load\n",
    "path = \"../Data/Incline/\"    #path to the data\n",
    "D_sensor = [21.0, 42.0, 63.0, 84.0, 105.0] #sensor placement . These are example, should use proper data\n",
    "eD_sensor = [0.1, 0.1, 0.1, 0.1, 0.1] #sensor placement error. These are example, should use proper data\n",
    "\n",
    "stuff = acceleration_calc(path + filename, 0, 0, 0, D_sensor, eD_sensor)\n",
    "print(stuff[2])"
   ]
  },
  {
   "cell_type": "code",
   "execution_count": null,
   "id": "594b09ab",
   "metadata": {},
   "outputs": [],
   "source": [
    "dat = read_csv(path + filename)\n",
    "plt.plot(dat[\"Time (s)\" ], dat[\"voltage (V)\"])"
   ]
  }
 ],
 "metadata": {
  "kernelspec": {
   "display_name": "Python 3 (ipykernel)",
   "language": "python",
   "name": "python3"
  },
  "language_info": {
   "codemirror_mode": {
    "name": "ipython",
    "version": 3
   },
   "file_extension": ".py",
   "mimetype": "text/x-python",
   "name": "python",
   "nbconvert_exporter": "python",
   "pygments_lexer": "ipython3",
   "version": "3.9.7"
  }
 },
 "nbformat": 4,
 "nbformat_minor": 5
}
