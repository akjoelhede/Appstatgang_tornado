{
 "cells": [
  {
   "cell_type": "code",
   "execution_count": 32,
   "id": "d56599e8",
   "metadata": {},
   "outputs": [],
   "source": [
    "# Imports\n",
    "import os, sys\n",
    "import numpy as np\n",
    "import matplotlib.pyplot as plt\n",
    "import pandas as pd\n",
    "import scipy.signal as sp\n",
    "from scipy import stats\n",
    "from iminuit import Minuit\n",
    "from iminuit.cost import LeastSquares"
   ]
  },
  {
   "cell_type": "code",
   "execution_count": 131,
   "id": "6268993d",
   "metadata": {},
   "outputs": [],
   "source": [
    "#function that reads the data, turning it into a pandas dataframe\n",
    "def read_csv(filename):\n",
    "    dat = pd.read_csv(filename, sep = ',', header = 13, names = [\"Time (s)\", \"voltage (V)\"]) \n",
    "    return dat\n",
    "\n",
    "def polynomial(x, a, b, c): #polynomisk function til fit\n",
    "    return a + x * b + 0.5 * x**2 * c\n",
    "\n",
    "#function for calculating acceleration on a dataset. returns acceleration a [WIP]\n",
    "def acceleration_calc(filename, theta, D_ball, D_rail, D_sensor, eD_sensor): #string, float, float, float, list of floats, list of floats\n",
    "\n",
    "    dat = read_csv(filename)\n",
    "    peaks = sp.find_peaks(dat[\"voltage (V)\"], height = 4, distance = 100)\n",
    "    time = []\n",
    "    for i in peaks[0]: #find tiderne hvor vi passerer, laver liste fra første gate til sidste.\n",
    "        time.append(dat[\"Time (s)\"][i])\n",
    "    time = np.array(time)\n",
    "    least_squares = LeastSquares(time, D_sensor, eD_sensor, polynomial) #for the minuit least squares fitting function. use chisquare instead?\n",
    "    m = Minuit(least_squares, a=0, b=0, c=0)\n",
    "    m.migrad()\n",
    "    m.hesse()\n",
    "    acc = m.values[2]\n",
    "    \n",
    "    #plot the data with fit, maybe remove when we are confident everything works\n",
    "    plt.errorbar(time, D_sensor, eD_sensor, fmt=\"o\", label=\"data\") #plot data\n",
    "    plt.plot(time, polynomial(time, *m.values), label=\"fit\") #plot fitted line\n",
    "    # display legend with some fit info\n",
    "    fit_info = [\n",
    "        f\"$\\\\chi^2$ / $n_\\\\mathrm{{dof}}$ = {m.fval:.1f} / {len(time) - m.nfit}\",\n",
    "    ]\n",
    "    for p, v, e in zip(m.parameters, m.values, m.errors):\n",
    "        fit_info.append(f\"{p} = ${v:.3f} \\\\pm {e:.3f}$\")\n",
    "    plt.legend(title=\"\\n\".join(fit_info));\n",
    "    return acc\n",
    "\n",
    "#weighted mean calculation, returns weighted mean, error on the mean, chi2, and chi2 probability.\n",
    "def w_mean(data, err): \n",
    "    mean_weighted = np.sum(data/(err**2))/np.sum(1/err**2)\n",
    "    err_weighted = np.sqrt(1/np.sum(1/err**2))\n",
    "    chi2 = np.sum(((data - mean_weighted) / err)**2)\n",
    "    n = len(data)\n",
    "    chi2_prob = stats.chi2.sf(chi2, n)\n",
    "    return [mean_weighted, err_weighted, chi2, chi2_prob]\n",
    "\n",
    "#mean calculation, calculating the statistical error\n",
    "def mean(data):\n",
    "    mean = np.sum(data)/len(data)\n",
    "    datasq = np.sum(data**2)/len(data)   #the mean of the square data, for the rho calculation\n",
    "    rho = np. sqrt(datasq - mean**2)\n",
    "    return mean, rho\n",
    "\n",
    "\n",
    "#function for calculating positions of sensors\n",
    "def sensor_position(D_sensor): #input a pd dataframe. output a 2d dataframe of sensor positions, error, chi2 and chi2prob\n",
    "    sensor_positions = pd.DataFrame(data = [], index = [\"D\", \"eD\", \"chi2\", \"chi2_prob\"])\n",
    "    sensor_positions.insert(0, \"gate1\", w_mean(D_sensor[\"gate1\"], D_sensor[\"egate1\"]))\n",
    "    sensor_positions.insert(1, \"gate2\", w_mean(D_sensor[\"gate2\"], D_sensor[\"egate2\"]))\n",
    "    sensor_positions.insert(2, \"gate3\", w_mean(D_sensor[\"gate3\"], D_sensor[\"egate3\"]))\n",
    "    sensor_positions.insert(3, \"gate4\", w_mean(D_sensor[\"gate4\"], D_sensor[\"egate4\"]))\n",
    "    sensor_positions.insert(4, \"gate5\", w_mean(D_sensor[\"gate5\"], D_sensor[\"egate5\"]))\n",
    "    \n",
    "    return sensor_positions\n",
    "    \n",
    "\n",
    "#function for looping over all files in a directory"
   ]
  },
  {
   "cell_type": "code",
   "execution_count": 139,
   "id": "a50b5a9d",
   "metadata": {},
   "outputs": [
    {
     "name": "stdout",
     "output_type": "stream",
     "text": [
      "[22.578275862068963, 0.05570860145311556, 0.1379310344827616, 0.99964218629083]\n"
     ]
    },
    {
     "data": {
      "text/plain": [
       "(22.586000000000002, 0.019595917942184574)"
      ]
     },
     "execution_count": 139,
     "metadata": {},
     "output_type": "execute_result"
    }
   ],
   "source": [
    "print(w_mean(D_sensor[\"gate1\"], D_sensor[\"egate1\"]))\n",
    "mean(D_sensor[\"gate1\"])"
   ]
  },
  {
   "cell_type": "code",
   "execution_count": 138,
   "id": "e964c272",
   "metadata": {},
   "outputs": [],
   "source": [
    "#make pd. dataframes containing measured lengths\n",
    "#photogate placement\n",
    "gate1 = [22.6, 22.6, 22.6, 22.55, 22.58]\n",
    "gate2 = [39.15, 39.15, 39.2, 39.15, 39.19]\n",
    "gate3 = [56.75, 56.8, 56.85, 56.75, 56.81]\n",
    "gate4 = [73.3, 73.25, 73.35, 73.26, 73.24]\n",
    "gate5 = [90.9, 90.85, 91.1, 90.9, 90.88]\n",
    "egate1 = [0.3, 0.1, 0.3, 0.1, 0.1]\n",
    "egate2 = [0.3, 0.1, 0.3, 0.1, 0.1]\n",
    "egate3 = [0.3, 0.05, 0.3, 0.1, 0.1]\n",
    "egate4 = [0.3, 0.05, 0.3, 0.1, 0.1]\n",
    "egate5 = [0.3, 0.1, 0.3, 0.1, 0.1]\n",
    "\n",
    "#D_sensor = pd.DataFrame(data = [gate1, egate1, gate2, egate2, gate3, egate3, gate4, egate4, gate5, egate5], index = [\"gate1\", \"egate1\", \"gate2\", \"egate2\", \"gate3\", \"egate3\", \"gate4\", \"egate4\", \"gate5\", \"egate5\", ])\n",
    "D_sensor = pd.DataFrame(data = [], index = [])\n",
    "D_sensor.insert(0, \"gate1\", gate1)\n",
    "D_sensor.insert(1, \"egate1\", egate1)\n",
    "D_sensor.insert(2, \"gate2\", gate2)\n",
    "D_sensor.insert(3, \"egate2\", egate2)\n",
    "D_sensor.insert(4, \"gate3\", gate3)\n",
    "D_sensor.insert(5, \"egate3\", egate3)\n",
    "D_sensor.insert(6, \"gate4\", gate4)\n",
    "D_sensor.insert(7, \"egate4\", egate4)\n",
    "D_sensor.insert(8, \"gate5\", gate5)\n",
    "D_sensor.insert(9, \"egate5\", egate5)\n",
    "\n",
    "\n",
    "#width of rail\n",
    "width_rail = [0.612, 0.628, 0.605, 0.6, 0.63]\n",
    "ewidth_rail = [0.04, 0.05, 0.03, 0.05, 0.05]\n",
    "\n",
    "D_rail = pd.DataFrame(data = [], index = [])\n",
    "D_rail.insert(0, \"D_rail\", width_rail)\n",
    "D_rail.insert(1, \"eD_rail\", ewidth_rail)\n",
    "\n",
    "#angles\n",
    "theta_f = [14.3, 14.3, 14.3, 14.1, 14.3]\n",
    "etheta_f = [0.5, 0.5, 0.2, 0.5, 0.5]\n",
    "theta_s = [13.1, 13.15, 13.1, 13.2, 13.0]\n",
    "etheta_s = [0.3, 0.5, 0.2, 0.3, 0.2]\n",
    "theta = pd.DataFrame(data = [], index = [])\n",
    "theta.insert(0, \"theta_f\", theta_f)\n",
    "theta.insert(1, \"etheta_f\", etheta_f)\n",
    "theta.insert(2, \"theta_s\", theta_s)\n",
    "theta.insert(3, \"etheta_s\", etheta_s)\n",
    "\n",
    "#ball sizes\n",
    "\n",
    "D_ball_xs = [1.2, 1.2, 1.2, 1.2, 1.2]\n",
    "eD_ball_xs = [0.01, 0.04, 0, 0.01, 0.02]\n",
    "D_ball_s = [1.24, 1.258, 1.23, 1.25, 1.25]\n",
    "eD_ball_s = [0.02, 0.04, 0.05, 0.03, 0.03]\n",
    "D_ball_l = [1.48, 1.48, 1.49, 1.488, 1.491]\n",
    "eD_ball_l = [0.05, 0.03, 0.04, 0.03, 0.04]\n",
    "\n",
    "D_balls = pd. DataFrame(data = [], index = [])\n",
    "D_balls.insert(0, \"D_ball_l\", D_ball_l)\n",
    "D_balls.insert(1, \"eD_ball_l\", eD_ball_l)\n",
    "D_balls.insert(2, \"D_ball_s\", D_ball_s)\n",
    "D_balls.insert(3, \"eD_ball_s\", eD_ball_s)\n",
    "D_balls.insert(4, \"D_ball_xs\", D_ball_xs)\n",
    "D_balls.insert(5, \"eD_ball_xs\", eD_ball_xs)\n",
    "\n"
   ]
  },
  {
   "cell_type": "code",
   "execution_count": 4,
   "id": "6cc279f2",
   "metadata": {},
   "outputs": [
    {
     "name": "stdout",
     "output_type": "stream",
     "text": [
      "185.0621396243953\n"
     ]
    },
    {
     "data": {
      "image/png": "[encoded data removed]",
      "text/plain": [
       "<Figure size 432x288 with 1 Axes>"
      ]
     },
     "metadata": {
      "needs_background": "light"
     },
     "output_type": "display_data"
    }
   ],
   "source": [
    "\n",
    "filename = \"Anders_L_fp.csv\" #filename of the file to load\n",
    "path = \"../Data/Incline/\"    #path to the data\n",
    "D_sensor = [21.0, 42.0, 63.0, 84.0, 105.0] #sensor placement . These are example, should use proper data\n",
    "eD_sensor = [0.1, 0.1, 0.1, 0.1, 0.1] #sensor placement error. These are example, should use proper data\n",
    "\n",
    "stuff = acceleration_calc(path + filename, 0, 0, 0, D_sensor, eD_sensor)\n",
    "print(stuff)"
   ]
  },
  {
   "cell_type": "code",
   "execution_count": 5,
   "id": "eebaabe0",
   "metadata": {},
   "outputs": [
    {
     "data": {
      "text/plain": [
       "[<matplotlib.lines.Line2D at 0x1eaf7260c70>]"
      ]
     },
     "execution_count": 5,
     "metadata": {},
     "output_type": "execute_result"
    },
    {
     "data": {
      "image/png": "[encoded data removed]",
      "text/plain": [
       "<Figure size 432x288 with 1 Axes>"
      ]
     },
     "metadata": {
      "needs_background": "light"
     },
     "output_type": "display_data"
    }
   ],
   "source": [
    "dat = read_csv(path + filename)\n",
    "plt.plot(dat[\"Time (s)\" ], dat[\"voltage (V)\"])"
   ]
  }
 ],
 "metadata": {
  "kernelspec": {
   "display_name": "Python 3 (ipykernel)",
   "language": "python",
   "name": "python3"
  },
  "language_info": {
   "codemirror_mode": {
    "name": "ipython",
    "version": 3
   },
   "file_extension": ".py",
   "mimetype": "text/x-python",
   "name": "python",
   "nbconvert_exporter": "python",
   "pygments_lexer": "ipython3",
   "version": "3.9.7"
  }
 },
 "nbformat": 4,
 "nbformat_minor": 5
}
