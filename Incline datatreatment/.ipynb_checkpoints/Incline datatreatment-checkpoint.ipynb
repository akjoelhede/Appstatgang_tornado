{
 "cells": [
  {
   "cell_type": "code",
   "execution_count": 40,
   "id": "29f85b80",
   "metadata": {},
   "outputs": [],
   "source": [
    "# Imports\n",
    "import os, sys\n",
    "import numpy as np\n",
    "import matplotlib.pyplot as plt\n",
    "import pandas as pd\n",
    "import scipy.signal as sp\n",
    "from iminuit import Minuit\n",
    "from iminuit.cost import LeastSquares"
   ]
  },
  {
   "cell_type": "code",
   "execution_count": 37,
   "id": "c69323b9",
   "metadata": {},
   "outputs": [],
   "source": [
    "#function that reads the data, turning it into a pandas dataframe\n",
    "def read_csv(filename):\n",
    "    dat = pd.read_csv(filename, sep = ',', header = 13, names = [\"Time (s)\", \"voltage (V)\"]) \n",
    "    return dat\n",
    "\n",
    "def polynomial(x, a, b, c):\n",
    "    return a + x * b + x * c**2\n",
    "\n",
    "#function for calculating acceleration on a dataset\n",
    "def acceleration_calc(filename, theta, D_ball, D_rail, D_sensor): #string, float, float, float, list of floats\n",
    "\n",
    "    dat = read_csv(filename)\n",
    "    peaks = sp.find_peaks(dat[\"voltage (V)\"], height = 4, distance = 100)\n",
    "    time = []\n",
    "    for i in peaks[0]: #find tiderne hvor vi passerer, laver liste fra første gate til sidste.\n",
    "        time.append(dat[\"Time (s)\"][i])\n",
    "    return time\n",
    "\n",
    "#function for calculating positions of sensors\n",
    "def sensor_position(): #input a pd dataframe? make this when  you get data\n",
    "    \n",
    "\n",
    "#function for looping over all files in a directory"
   ]
  },
  {
   "cell_type": "code",
   "execution_count": 38,
   "id": "a9b83e81",
   "metadata": {},
   "outputs": [
    {
     "name": "stdout",
     "output_type": "stream",
     "text": [
      "[-1.425, -1.214375, -1.04875, -0.9225, -0.805]\n"
     ]
    }
   ],
   "source": [
    "\n",
    "filename = \"Anders_L_fp.csv\" #filename of the file to load\n",
    "path = \"../Data/Incline/\"    #path to the data\n",
    "\n",
    "print(acceleration_calc(path + filename, 0, 0, 0))"
   ]
  },
  {
   "cell_type": "code",
   "execution_count": 30,
   "id": "5b927c5b",
   "metadata": {},
   "outputs": [
    {
     "data": {
      "text/plain": [
       "[<matplotlib.lines.Line2D at 0x1c90c6fa7f0>]"
      ]
     },
     "execution_count": 30,
     "metadata": {},
     "output_type": "execute_result"
    },
    {
     "data": {
      "image/png": "[encoded data removed]",
      "text/plain": [
       "<Figure size 432x288 with 1 Axes>"
      ]
     },
     "metadata": {
      "needs_background": "light"
     },
     "output_type": "display_data"
    }
   ],
   "source": [
    "dat = read_csv(path + filename)\n",
    "plt.plot(dat[\"Time (s)\" ], dat[\"voltage (V)\"])"
   ]
  }
 ],
 "metadata": {
  "kernelspec": {
   "display_name": "Python 3 (ipykernel)",
   "language": "python",
   "name": "python3"
  },
  "language_info": {
   "codemirror_mode": {
    "name": "ipython",
    "version": 3
   },
   "file_extension": ".py",
   "mimetype": "text/x-python",
   "name": "python",
   "nbconvert_exporter": "python",
   "pygments_lexer": "ipython3",
   "version": "3.9.7"
  }
 },
 "nbformat": 4,
 "nbformat_minor": 5
}
