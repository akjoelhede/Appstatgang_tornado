{
 "cells": [
  {
   "cell_type": "code",
   "execution_count": 1,
   "id": "b80c217a",
   "metadata": {},
   "outputs": [],
   "source": [
    "#importer pakker\n",
    "import numpy as np                                     # Matlab like syntax for linear algebra and functions\n",
    "import matplotlib as mpl\n",
    "import matplotlib.pyplot as plt                        # Plots and figures like you know them from Matlab\n",
    "from iminuit import Minuit                             # The actual fitting tool, better than scipy's\n",
    "import sys                                             # Modules to see files and folders in directories\n",
    "\n",
    "from scipy import stats\n",
    "from scipy.stats import binom, poisson, norm           # Functions from SciPy Stats..."
   ]
  },
  {
   "cell_type": "code",
   "execution_count": 2,
   "id": "46ed97f2",
   "metadata": {},
   "outputs": [],
   "source": [
    "#hent troels External functions, husk at denne skal have korrekt path.\n",
    "sys.path.append('External_Functions')\n",
    "from ExternalFunctions import Chi2Regression\n",
    "from ExternalFunctions import nice_string_output, add_text_to_ax   # Useful functions to print fit results on figure"
   ]
  },
  {
   "cell_type": "markdown",
   "id": "1d6624ce",
   "metadata": {},
   "source": [
    "# Index\n",
    "## Dataloader\n",
    "\n",
    "## Monte carlo accept reject\n",
    "## Fitting  [Test pending] [sammenlign med anders, da normaliseringen af fittet måske er fucked]\n",
    "## correlation and covariance\n",
    "## Tests:\n",
    "### Wald-Wolfowits (Runs test)\n",
    "### Kolmorogov-smirnov (Distribution test) \n",
    "### Neymann Pearson test [double gauss / alpha beta] [bonus WIP]\n",
    "## PDF's:\n",
    " Gauss [WIP]"
   ]
  },
  {
   "cell_type": "code",
   "execution_count": null,
   "id": "c12f9160",
   "metadata": {},
   "outputs": [],
   "source": [
    "# dataloader function\n",
    "def read_csv(filename):\n",
    "    dat = pd.read_csv(filename, sep = ',', header = 13) #Tjek header og seperator.\n",
    "    return dat"
   ]
  },
  {
   "cell_type": "code",
   "execution_count": null,
   "id": "30c871ad",
   "metadata": {},
   "outputs": [],
   "source": [
    "# make dataframe into numpy arrays\n",
    "dataframe = read_csv(filename)\n",
    "Data1, Data2, Data3 = dataframe.values.T"
   ]
  },
  {
   "cell_type": "markdown",
   "id": "4aba0435",
   "metadata": {},
   "source": [
    "# Monte carlo simulations\n",
    "\n",
    "A few of the useful functions for generating random numbers according to a distribution.\n",
    "\n",
    "## Index\n",
    "### 1: Accept reject method\n",
    "#### 1.1: Generate numbers according to function of distribution\n",
    "#### 1.2: make histogram and draw the function on top\n",
    "#### 1.3: fit it?\n",
    "### 2: Transformation method\n",
    "#### 2.1: Generate numbers according to function of distribution\n",
    "#### 2.2: make histogram and draw the function on top\n",
    "#### 2.3: fit it?"
   ]
  },
  {
   "cell_type": "markdown",
   "id": "04a00e59",
   "metadata": {},
   "source": [
    "## Accept reject method\n",
    "Process: generate random 2D numbers evenly, then check if they fall under the distributions function."
   ]
  },
  {
   "cell_type": "code",
   "execution_count": 3,
   "id": "b11523b1",
   "metadata": {},
   "outputs": [],
   "source": [
    "# General settings:\n",
    "r = np.random                       # Random generator\n",
    "r.seed(2)                          # Fixed order of random numbers\n",
    "\n",
    "#plotting and amount of outputs\n",
    "save_plots = False\n",
    "verbose = True\n",
    "N_verbose = 10\n",
    "\n",
    "# Set plotting parameters:\n",
    "mpl.rcParams['font.size'] = 18      # Set the general plotting font size\n",
    "\n",
    "\n",
    "#make program parameters\n",
    "N_points = 10000      # Number of random points used \n",
    "\n",
    "#Interval of the X values, make sure these are correct\n",
    "xmin = 0\n",
    "xmax = 1\n",
    "N_bins = 100          # Find out yourself what a good number of bins is.\n",
    "\n",
    "\n",
    "ymin = 0.0      # Minimum value the function will take!\n",
    "ymax = 2.0      # Maximum value the function will take!"
   ]
  },
  {
   "cell_type": "code",
   "execution_count": 4,
   "id": "a4594a6f",
   "metadata": {},
   "outputs": [],
   "source": [
    "#define the function\n",
    "def func(x, a):\n",
    "    return np.sin(a*x*10) + 1"
   ]
  },
  {
   "cell_type": "code",
   "execution_count": 5,
   "id": "fc9b6637",
   "metadata": {},
   "outputs": [
    {
     "name": "stdout",
     "output_type": "stream",
     "text": [
      "10000\n",
      "10000\n"
     ]
    }
   ],
   "source": [
    "N_try = 0.0\n",
    "x_accepted = np.zeros(N_points)\n",
    "\n",
    "print(len(x_accepted))\n",
    "\n",
    "for i in range(N_points):\n",
    "    \n",
    "    while True:\n",
    "        \n",
    "        # Count the number of tries, to get efficiency/integral\n",
    "        N_try += 1                    \n",
    "        \n",
    "        # Range that f(x) is defined/wanted in:\n",
    "        x_test = r.uniform(xmin, xmax)  \n",
    "        \n",
    "        # Upper bound for function values:\n",
    "        y_test = r.uniform(ymin, ymax)\n",
    "        \n",
    "        if (y_test < func(x_test, 1)): #her findes et parameter for funktionen som skal rettes\n",
    "            break\n",
    "            \n",
    "    x_accepted[i] = x_test\n",
    "    \n",
    "print(len(x_accepted))"
   ]
  },
  {
   "cell_type": "code",
   "execution_count": 6,
   "id": "f5789dd5",
   "metadata": {},
   "outputs": [
    {
     "name": "stdout",
     "output_type": "stream",
     "text": [
      "\n",
      "Integral of f(x) = function, x in [0, 1] is: \t  1.1762 +- 0.0075\n",
      "The efficiency of the Accept/Reject method used here is: \t 58.81% +/- 0.38%\n"
     ]
    }
   ],
   "source": [
    "# Efficiency\n",
    "eff = N_points / N_try                        \n",
    "\n",
    "# Error on efficiency (binomial!)\n",
    "eff_error = np.sqrt(eff * (1-eff) / N_try) \n",
    "\n",
    "# Integral\n",
    "integral =  eff * (xmax-xmin) * (ymax-ymin)\n",
    "\n",
    "# Error on integral\n",
    "eintegral = eff_error * (xmax-xmin) * (ymax-ymin)  \n",
    "\n",
    "print(f\"\\nIntegral of f(x) = function, x in [0, 1] is: \\t {integral:7.4f} +- {eintegral:6.4f}\")\n",
    "print(f\"The efficiency of the Accept/Reject method used here is: \\t {eff:.2%} +/- {eff_error:.2%}\")\n",
    "# We normalized the function ahead of time, so we should hope to get a result consistent with unity!"
   ]
  },
  {
   "cell_type": "code",
   "execution_count": 7,
   "id": "be9d8569",
   "metadata": {
    "scrolled": false
   },
   "outputs": [
    {
     "name": "stdout",
     "output_type": "stream",
     "text": [
      "10000\n",
      "10000\n"
     ]
    },
    {
     "data": {
      "image/png": "[encoded data removed]",
      "text/plain": [
       "<Figure size 1200x600 with 1 Axes>"
      ]
     },
     "metadata": {},
     "output_type": "display_data"
    }
   ],
   "source": [
    "xrange = np.linspace(xmin, xmax, 1000)  \n",
    "binwidth = 1/integral * (xmax-xmin) / N_bins #integral = the effeciency\n",
    "yrange = N_points * binwidth * func(xrange, 1) #her findes et parameter for funktionen som skal rettes\n",
    "\n",
    "\n",
    "\n",
    "#plot the results\n",
    "fig2, ax2 = plt.subplots(figsize=(12, 6))\n",
    "ax2.hist(x_accepted, bins=N_bins, range=(xmin, xmax), histtype='step', label='histogram' )\n",
    "ax2.set(xlabel=\"x (even distribution)\", ylabel=\"Frequency\", xlim=(xmin-0.1, xmax+0.1));\n",
    "\n",
    "ax2.plot(xrange, yrange)\n",
    "\n",
    "print(len(x_accepted))\n",
    "print(N_points)"
   ]
  },
  {
   "cell_type": "code",
   "execution_count": 8,
   "id": "ec46c3da",
   "metadata": {},
   "outputs": [
    {
     "name": "stdout",
     "output_type": "stream",
     "text": [
      "0 1\n",
      "[ 91  95 121  90 111 126 128 144 145 154 176 159 168 168 155 166 175 157\n",
      " 183 147 166 172 142 140 128 142 113 125 112 110  88  78  88  61  63  60\n",
      "  53  33  28  27  17  13  14   4   1   4   0   0   0   1   5   5  17  19\n",
      "  22  28  22  43  42  46  64  74  71 107 122 117 132 103 135 157 146 156\n",
      " 149 143 157 167 166 169 175 148 151 149 157 156 145 144 143 144 130 109\n",
      " 130  84 111  94  90  78  72  65  60  39]\n"
     ]
    },
    {
     "data": {
      "text/html": [
       "<table>\n",
       "    <tr>\n",
       "        <th colspan=\"5\" style=\"text-align:center\" title=\"Minimizer\"> Migrad </th>\n",
       "    </tr>\n",
       "    <tr>\n",
       "        <td colspan=\"2\" style=\"text-align:left\" title=\"Minimum value of function\"> FCN = 477.1 </td>\n",
       "        <td colspan=\"3\" style=\"text-align:center\" title=\"No. of function evaluations in last call and total number\"> Nfcn = 13 </td>\n",
       "    </tr>\n",
       "    <tr>\n",
       "        <td colspan=\"2\" style=\"text-align:left\" title=\"Estimated distance to minimum and goal\"> EDM = 7.03e-06 (Goal: 0.0002) </td>\n",
       "        <td colspan=\"3\" style=\"text-align:center\" title=\"No. of gradient evaluations in last call and total number\">  </td>\n",
       "    </tr>\n",
       "    <tr>\n",
       "        <td colspan=\"2\" style=\"text-align:center;background-color:#92CCA6;color:black\"> Valid Minimum </td>\n",
       "        <td colspan=\"3\" style=\"text-align:center;background-color:#92CCA6;color:black\"> No Parameters at limit </td>\n",
       "    </tr>\n",
       "    <tr>\n",
       "        <td colspan=\"2\" style=\"text-align:center;background-color:#92CCA6;color:black\"> Below EDM threshold (goal x 10) </td>\n",
       "        <td colspan=\"3\" style=\"text-align:center;background-color:#92CCA6;color:black\"> Below call limit </td>\n",
       "    </tr>\n",
       "    <tr>\n",
       "        <td style=\"text-align:center;background-color:#92CCA6;color:black\"> Covariance </td>\n",
       "        <td style=\"text-align:center;background-color:#92CCA6;color:black\"> Hesse ok </td>\n",
       "        <td style=\"text-align:center;background-color:#92CCA6;color:black\" title=\"Is covariance matrix accurate?\"> Accurate </td>\n",
       "        <td style=\"text-align:center;background-color:#92CCA6;color:black\" title=\"Is covariance matrix positive definite?\"> Pos. def. </td>\n",
       "        <td style=\"text-align:center;background-color:#92CCA6;color:black\" title=\"Was positive definiteness enforced by Minuit?\"> Not forced </td>\n",
       "    </tr>\n",
       "</table><table>\n",
       "    <tr>\n",
       "        <td></td>\n",
       "        <th title=\"Variable name\"> Name </th>\n",
       "        <th title=\"Value of parameter\"> Value </th>\n",
       "        <th title=\"Hesse error\"> Hesse Error </th>\n",
       "        <th title=\"Minos lower error\"> Minos Error- </th>\n",
       "        <th title=\"Minos upper error\"> Minos Error+ </th>\n",
       "        <th title=\"Lower limit of the parameter\"> Limit- </th>\n",
       "        <th title=\"Upper limit of the parameter\"> Limit+ </th>\n",
       "        <th title=\"Is the parameter fixed in the fit\"> Fixed </th>\n",
       "    </tr>\n",
       "    <tr>\n",
       "        <th> 0 </th>\n",
       "        <td> a </td>\n",
       "        <td> 1.0023 </td>\n",
       "        <td> 0.0018 </td>\n",
       "        <td>  </td>\n",
       "        <td>  </td>\n",
       "        <td>  </td>\n",
       "        <td>  </td>\n",
       "        <td>  </td>\n",
       "    </tr>\n",
       "</table><table>\n",
       "    <tr>\n",
       "        <td></td>\n",
       "        <th> a </th>\n",
       "    </tr>\n",
       "    <tr>\n",
       "        <th> a </th>\n",
       "        <td> 3.34e-06 </td>\n",
       "    </tr>\n",
       "</table>"
      ],
      "text/plain": [
       "┌─────────────────────────────────────────────────────────────────────────┐\n",
       "│                                Migrad                                   │\n",
       "├──────────────────────────────────┬──────────────────────────────────────┤\n",
       "│ FCN = 477.1                      │              Nfcn = 13               │\n",
       "│ EDM = 7.03e-06 (Goal: 0.0002)    │                                      │\n",
       "├──────────────────────────────────┼──────────────────────────────────────┤\n",
       "│          Valid Minimum           │        No Parameters at limit        │\n",
       "├──────────────────────────────────┼──────────────────────────────────────┤\n",
       "│ Below EDM threshold (goal x 10)  │           Below call limit           │\n",
       "├───────────────┬──────────────────┼───────────┬─────────────┬────────────┤\n",
       "│  Covariance   │     Hesse ok     │ Accurate  │  Pos. def.  │ Not forced │\n",
       "└───────────────┴──────────────────┴───────────┴─────────────┴────────────┘\n",
       "┌───┬──────┬───────────┬───────────┬────────────┬────────────┬─────────┬─────────┬───────┐\n",
       "│   │ Name │   Value   │ Hesse Err │ Minos Err- │ Minos Err+ │ Limit-  │ Limit+  │ Fixed │\n",
       "├───┼──────┼───────────┼───────────┼────────────┼────────────┼─────────┼─────────┼───────┤\n",
       "│ 0 │ a    │  1.0023   │  0.0018   │            │            │         │         │       │\n",
       "└───┴──────┴───────────┴───────────┴────────────┴────────────┴─────────┴─────────┴───────┘\n",
       "┌───┬──────────┐\n",
       "│   │        a │\n",
       "├───┼──────────┤\n",
       "│ a │ 3.34e-06 │\n",
       "└───┴──────────┘"
      ]
     },
     "execution_count": 8,
     "metadata": {},
     "output_type": "execute_result"
    }
   ],
   "source": [
    "#Fit funktionen\n",
    "#HUSK AT NORMALISERER!!! FORDI ET HISTOGRAM ER IKKE NORMALISERET.Gøres ved at gange med N.\n",
    "\n",
    "def func_fit(x, a):\n",
    "    return (np.sin(a*x*10) + 1) * N_points/N_bins\n",
    "\n",
    "# Find the x, y and error on y (sy) given the histogram:\n",
    "counts, bin_edges = np.histogram(x_accepted, bins=N_bins, range=(xmin, xmax))\n",
    "x = (bin_edges[1:] + bin_edges[:-1])/2\n",
    "y = counts\n",
    "sy = np.sqrt(counts)  \n",
    "\n",
    "# Defining Chi2 calculation:\n",
    "#def chi2_owncalc(a) :\n",
    "#    y_fit = x**a\n",
    "#    chi2 = np.sum(((y - y_fit) / sy)**2)\n",
    "#    return chi2\n",
    "\n",
    "m = Chi2Regression(func_fit, x[y>0], y[y>0], sy[y>0])\n",
    "# NOTE: Did you remember to ensure, that all bins had entries in them, i.e. that y>0?\n",
    "\n",
    "minuit_chi2 = Minuit(m, a=1)\n",
    "minuit_chi2.errordef = 1.0     # This is the definition for ChiSqaure fits\n",
    "minuit_chi2.migrad()           # This is where the minimisation is carried out! Put \";\" at the end to void output\n",
    "\n"
   ]
  },
  {
   "cell_type": "code",
   "execution_count": null,
   "id": "d0d72990",
   "metadata": {},
   "outputs": [],
   "source": []
  },
  {
   "cell_type": "markdown",
   "id": "1948ccb1",
   "metadata": {},
   "source": [
    "# Transformation method\n",
    "\n",
    "just dont"
   ]
  },
  {
   "cell_type": "code",
   "execution_count": 9,
   "id": "45f547b3",
   "metadata": {},
   "outputs": [],
   "source": [
    "# Transformation method:\n",
    "#x_transformation = (4*r.uniform(size=N))**0.25"
   ]
  },
  {
   "cell_type": "markdown",
   "id": "ad9a0fa1",
   "metadata": {},
   "source": [
    "# fitting data\n",
    "0: First, load the data with the dataloader (earlier in the document),\n",
    "1: Determine general input\n",
    "2: Plot the data without fit\n",
    "3: Determine a fitting function and do the fit\n",
    "4: Calculate chisquare, probability and plot the fit"
   ]
  },
  {
   "cell_type": "code",
   "execution_count": null,
   "id": "49962242",
   "metadata": {},
   "outputs": [],
   "source": [
    "# General input:\n",
    "Nbins = 50\n",
    "xmin, xmax = 0, 80\n",
    "binwidth = (xmax-xmin)/Nbins"
   ]
  },
  {
   "cell_type": "code",
   "execution_count": null,
   "id": "b3d2d0b5",
   "metadata": {},
   "outputs": [],
   "source": [
    "\n",
    "# Create just a single figure and axes, and a (classic) histogram:\n",
    "fig, ax = plt.subplots(figsize=(16, 6))\n",
    "hist = ax.hist(data, bins=Nbins, range=(xmin, xmax), histtype='step', linewidth=2, color='red', label='Data, normal histogram')\n",
    "#REMEMBER TO CHANGE 'data' TO THE DATA\n",
    "\n",
    "# Find the x, y and error on y (sy) given the histogram:\n",
    "counts, bin_edges = np.histogram(data, bins=Nbins, range=(xmin, xmax)) #REMEMBER TO CHANGE 'data' TO THE DATA\n",
    "x = (bin_edges[1:] + bin_edges[:-1])/2\n",
    "y = counts\n",
    "sy = np.sqrt(counts)   # NOTE: We (naturally) assume that the bin count is Poisson distributed.\n",
    "                       # This is an approximation, since there is a low count in the last bins.\n",
    "    \n",
    "mask = y>0  #mask to only use nonzero bins\n",
    "y = y[mask]\n",
    "sy = sy[mask]\n",
    "x = x[mask]\n",
    "\n",
    "# Now create a histogram with uncertainties (better, I would argue):\n",
    "ax.errorbar(x, y, yerr=sy, xerr=0.0, label='Data, with Poisson errors', fmt='.k',  ecolor='k', elinewidth=1, capsize=1, capthick=1)\n",
    "\n",
    "# Set the figure texts; xlabel, ylabel and title.\n",
    "ax.set(xlabel=\"data\",           # the label of the y axis\n",
    "       ylabel=\"Frequency\",           # the label of the y axis\n",
    "       title =\"Distribution of data\")    # the title of the plot\n",
    "ax.legend(loc='best', fontsize=20);       # could also be # loc = 'upper right' e.g."
   ]
  },
  {
   "cell_type": "code",
   "execution_count": null,
   "id": "796aa7ad",
   "metadata": {},
   "outputs": [],
   "source": [
    "#determine a fitting function, with N as normalization parameter\n",
    "#here a gaussian fit is used as exmaple\n",
    "def fit_func(x,sigma, mu, N):\n",
    "    return  N*(np.exp(-(x-mu)**2/(2*sigma**2)))/ (sigma*np.sqrt(2*np.pi))\n",
    "\n",
    "#make the fit\n",
    "m = LeastSquares(x, y, sy, fit_func) #remember to change to the name of the fitting function\n",
    "\n",
    "m = Minuit(m, sigma=20, mu=45, N=100) #give start parameters\n",
    "m.errordef = 1.0     # This is the definition for ChiSqaure fits\n",
    "m.migrad()\n",
    "m.hesse()"
   ]
  },
  {
   "cell_type": "code",
   "execution_count": null,
   "id": "e9773dcf",
   "metadata": {},
   "outputs": [],
   "source": [
    "#extract the fitting parameters, chisquare and probabilities\n",
    "# First, check if the result was a valid minimum:\n",
    "if (not m.fmin.is_valid) :\n",
    "    print(\"  WARNING: The ChiSquare fit DID NOT converge!!! \")    \n",
    "    \n",
    "# Short hand way of accessing the fit parameters:\n",
    "fit_sigma, fit_mu, fit_N = m.values[:]   # The fitted values of the parameters\n",
    "\n",
    "# Loop to get both parameter values and uncertainties:\n",
    "for name in m.parameters :\n",
    "    value, error = m.values[name], m.errors[name]\n",
    "    print(f\"Fit value: {name} = {value:.5f} +/- {error:.5f}\")\n",
    "\n",
    "# Get Chi2 value:\n",
    "chi2_value = m.fval            # The value minimised, i.e. Chi2 or -2*LogLikeliHood (LLH) value\n",
    "\n",
    "# Get number of degrees-of-freedom (Ndof):\n",
    "N_NotEmptyBin = np.sum(y > 0)\n",
    "Ndof_value = N_NotEmptyBin - len(m.parameters)\n",
    "\n",
    "Prob_value = stats.chi2.sf(chi2_value, Ndof_value) # The chi2 probability given N_DOF degrees of freedom\n",
    "print(f\"Chi2 value: {chi2_value:.1f}   Ndof = {Ndof_value:.0f}    Prob(Chi2,Ndof) = {Prob_value:5.3f}\")"
   ]
  },
  {
   "cell_type": "code",
   "execution_count": null,
   "id": "21a9ccc9",
   "metadata": {},
   "outputs": [],
   "source": [
    "# plot it\n",
    "fit_info = [f\"$\\\\chi^2$ / $n_\\\\mathrm{{dof}}$ = {m.fval:.1f} / {len(x) - m.nfit}\",]\n",
    "for p, v, e in zip(m.parameters, m.values, m.errors):\n",
    "\tfit_info.append(f\"{p} = ${v:.3f} \\\\pm {e:.3f}$\")\n",
    "\n",
    "\n",
    "fig, ax = plt.subplots(figsize=(12, 6))\n",
    "ax.errorbar(x, y, yerr=sy, xerr=0.0, label='Data, with Poisson errors', fmt='.k',  ecolor='k', elinewidth=1, capsize=1, capthick=1)\n",
    "\n",
    "ax.plot(np.linspace(0,80), gauss_fit(np.linspace(0,80),*m.values))\n",
    "ax.set(xlabel=\"Molecule size [µm]\", ylabel=\"Frequency\");\n",
    "ax.legend(title=\"\\n\".join(fit_info));\n"
   ]
  },
  {
   "cell_type": "markdown",
   "id": "5fc2717a",
   "metadata": {},
   "source": [
    "# Correlation and covariance"
   ]
  },
  {
   "cell_type": "code",
   "execution_count": null,
   "id": "2cb14a01",
   "metadata": {},
   "outputs": [],
   "source": [
    "#Her skal x og y være de to datasæt.\n",
    "def cov_corr(x, y, sigmax, sigmay)\n",
    "    covariance = np.mean(x * y) - (np.mean(x) * np.mean(y))\n",
    "    correlation = covariance / (sigmax * sigmay)\n",
    "    return covariance, correlation"
   ]
  },
  {
   "cell_type": "markdown",
   "id": "969f6835",
   "metadata": {},
   "source": [
    "# Tests\n",
    "### Kolmorogov smirnoff\n",
    "Bruges som alternativ til chisquare når din sample size er lille, og derfor køres unbinned. Skal sammenlignes med en på forhånd kendt funktion, ikke med en som er fittet på dataen, det snyder vist.\n",
    "### Wald Wolfowitz (runs test)\n",
    "### Neymann pearson \n",
    "Se side 145 af bogen, [WIP] lav en dobbeltgauss så man kan lave pæne plots\n",
    "### Students t\n",
    "Slå det op i bogen\n",
    "### Z-test"
   ]
  },
  {
   "cell_type": "markdown",
   "id": "459cb5b8",
   "metadata": {},
   "source": [
    "### Kolmorogov smirnoff\n"
   ]
  },
  {
   "cell_type": "code",
   "execution_count": null,
   "id": "c88c2b49",
   "metadata": {},
   "outputs": [],
   "source": [
    "#input: some data set and some distribution OR some other data set.\n",
    "#bare generer dit andet dataset, husk at normalisere (derfor npoints og binwidth)\n",
    "stats.kstest(y, func_fit(x, 0, 1)*N_points*binwidth)"
   ]
  },
  {
   "cell_type": "markdown",
   "id": "398664d1",
   "metadata": {},
   "source": [
    "### Wald wolfowitz"
   ]
  },
  {
   "cell_type": "code",
   "execution_count": 11,
   "id": "cc3bef61",
   "metadata": {},
   "outputs": [
    {
     "ename": "NameError",
     "evalue": "name 'numbers' is not defined",
     "output_type": "error",
     "traceback": [
      "\u001b[1;31m---------------------------------------------------------------------------\u001b[0m",
      "\u001b[1;31mNameError\u001b[0m                                 Traceback (most recent call last)",
      "Cell \u001b[1;32mIn[11], line 5\u001b[0m\n\u001b[0;32m      1\u001b[0m \u001b[38;5;66;03m# Wald - wolfowitz runs test\u001b[39;00m\n\u001b[0;32m      3\u001b[0m n_runs \u001b[38;5;241m=\u001b[39m \u001b[38;5;241m0\u001b[39m\n\u001b[1;32m----> 5\u001b[0m mean \u001b[38;5;241m=\u001b[39m np\u001b[38;5;241m.\u001b[39mmean(\u001b[43mnumbers\u001b[49m)\n\u001b[0;32m      6\u001b[0m \u001b[38;5;28;01mif\u001b[39;00m mean \u001b[38;5;241m%\u001b[39m \u001b[38;5;241m1\u001b[39m \u001b[38;5;241m==\u001b[39m \u001b[38;5;241m0\u001b[39m:\n\u001b[0;32m      7\u001b[0m     \u001b[38;5;28mprint\u001b[39m(\u001b[38;5;124m'\u001b[39m\u001b[38;5;124mBEWARE! Mean is an integer, code wont work!\u001b[39m\u001b[38;5;124m'\u001b[39m)\n",
      "\u001b[1;31mNameError\u001b[0m: name 'numbers' is not defined"
     ]
    }
   ],
   "source": [
    "# Wald - wolfowitz runs test\n",
    "\n",
    "n_runs = 0\n",
    "\n",
    "mean = np.mean(data) #INPUT DATA HERE\n",
    "if mean % 1 == 0:\n",
    "    print('BEWARE! Mean is an integer, code wont work!')\n",
    "\n",
    "#Find exepcted mean number of runs\n",
    "n_runs_expected = (0.5*len(data))+1 #INPUT DATA HERE\n",
    "v_runs_expected = (n_runs_expected-1)*(n_runs_expected-2)/(len(DATA)-1) #Variance on mean #INPUT DATA HERE\n",
    "sigma_n_runs_expected = np.sqrt(v_runs_expected) #Error on mean\n",
    "          \n",
    "\n",
    "#Check number of runs in data\n",
    "if numbers[0] > mean:\n",
    "    run_positive = True\n",
    "else:\n",
    "    run_positive = False\n",
    "\n",
    "for i in range(len(numbers)):\n",
    "    if run_positive :\n",
    "        if numbers[i] < mean:\n",
    "            run_positive = False\n",
    "            n_runs += 1\n",
    "    else :\n",
    "        if numbers[i] > mean:\n",
    "            run_positive = True\n",
    "            n_runs += 1\n",
    "\n",
    "dist = (n_runs - n_runs_expected)/sigma_n_runs_expected\n",
    "prob = stats.norm.sf(dist)\n",
    "prob2 = prob - (1-prob)\n",
    "\n",
    "print(f\"expected number of runs was {n_runs_expected:.1f} +- {sigma_n_runs_expected:.1f}\")\n",
    "print(f\"observed number of runs was {n_runs:.0f}, a distance of {dist} sigma from the expected value\")\n",
    "print(f\"this leaves us with a one tailed gaussian probability of {prob:.3f}, or two tailed probability of {prob2:.3f}\")"
   ]
  },
  {
   "cell_type": "markdown",
   "id": "dd0432e7",
   "metadata": {},
   "source": [
    "## Students t\n",
    "Slå det op i bogen"
   ]
  },
  {
   "cell_type": "markdown",
   "id": "877debf4",
   "metadata": {},
   "source": []
  }
 ],
 "metadata": {
  "kernelspec": {
   "display_name": "Python 3 (ipykernel)",
   "language": "python",
   "name": "python3"
  },
  "language_info": {
   "codemirror_mode": {
    "name": "ipython",
    "version": 3
   },
   "file_extension": ".py",
   "mimetype": "text/x-python",
   "name": "python",
   "nbconvert_exporter": "python",
   "pygments_lexer": "ipython3",
   "version": "3.9.15"
  }
 },
 "nbformat": 4,
 "nbformat_minor": 5
}
